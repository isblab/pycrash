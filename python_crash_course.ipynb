{
 "cells": [
  {
   "cell_type": "markdown",
   "metadata": {},
   "source": [
    "# Introduction to python"
   ]
  },
  {
   "cell_type": "markdown",
   "metadata": {},
   "source": [
    "**Course logistics** : Four parts. Each part : lecture for 20-30 mins + assignment for 15 mins. Assigned to breakout rooms with TAs. \n",
    "\n",
    "* Python is an interpreted language; no need to compile. \n",
    "\n",
    "* Jupyter notebook: interactive environment for writing and running code, storing notes alongside. \n",
    "\n",
    "* Programming essentials : **storage** (data structures) and **control flow** (algorithms). "
   ]
  },
  {
   "cell_type": "markdown",
   "metadata": {},
   "source": [
    "## Part 1. Basic data structures, conditionals and looping"
   ]
  },
  {
   "cell_type": "markdown",
   "metadata": {},
   "source": [
    "### Data structures"
   ]
  },
  {
   "cell_type": "markdown",
   "metadata": {},
   "source": [
    "How/what information is stored in memory.\n",
    "\n",
    "All information stored in memory as registers (1's and 0's). \n",
    "\n",
    "Low-level languages (manipulate registers) and high-level languages (variables).  \n",
    "\n",
    "#### In-built/simple data types\n",
    "\n",
    "Assignment right to left. Values assigned stay as-is unless changed. "
   ]
  },
  {
   "cell_type": "code",
   "execution_count": null,
   "metadata": {},
   "outputs": [],
   "source": [
    "a = 12 \n",
    "\n",
    "a\n",
    "\n",
    "# integer"
   ]
  },
  {
   "cell_type": "code",
   "execution_count": null,
   "metadata": {},
   "outputs": [],
   "source": [
    "# I can write whatever I want"
   ]
  },
  {
   "cell_type": "code",
   "execution_count": null,
   "metadata": {},
   "outputs": [],
   "source": [
    "b = 43.45\n",
    "b \n",
    "# floating point"
   ]
  },
  {
   "cell_type": "code",
   "execution_count": null,
   "metadata": {},
   "outputs": [],
   "source": [
    "c = \"this course\" # string\n",
    "c"
   ]
  },
  {
   "cell_type": "code",
   "execution_count": null,
   "metadata": {},
   "outputs": [],
   "source": [
    "d = True\n",
    "\n",
    "d"
   ]
  },
  {
   "cell_type": "code",
   "execution_count": null,
   "metadata": {},
   "outputs": [],
   "source": [
    "# string\n",
    "\n",
    "# This is a comment\n",
    "\n",
    "print(a,b,c,d)"
   ]
  },
  {
   "cell_type": "markdown",
   "metadata": {},
   "source": [
    "#### User-defined/abstract data types"
   ]
  },
  {
   "cell_type": "markdown",
   "metadata": {},
   "source": [
    "#### Lists \n",
    "\n",
    "Linear/sequential storage. Random access of i'th element. "
   ]
  },
  {
   "cell_type": "code",
   "execution_count": null,
   "metadata": {},
   "outputs": [],
   "source": [
    "l = [1,2,3,4,5] # this is a list\n",
    "l"
   ]
  },
  {
   "cell_type": "code",
   "execution_count": null,
   "metadata": {},
   "outputs": [],
   "source": [
    "m = [] # this is an empty list"
   ]
  },
  {
   "cell_type": "code",
   "execution_count": null,
   "metadata": {},
   "outputs": [],
   "source": [
    "l[3] = 19 # can access i'th element by a[i]. Index numbering starts from 0. \n",
    "l "
   ]
  },
  {
   "cell_type": "code",
   "execution_count": null,
   "metadata": {},
   "outputs": [],
   "source": [
    "l.append(6) # add to the end of a list\n",
    "l"
   ]
  },
  {
   "cell_type": "code",
   "execution_count": null,
   "metadata": {},
   "outputs": [],
   "source": [
    "l.insert(1,24) # insert(i,x)  inserts x before index i. \n",
    "l"
   ]
  },
  {
   "cell_type": "code",
   "execution_count": null,
   "metadata": {},
   "outputs": [],
   "source": [
    "print(l.index(19)) # returns index of the element 19. "
   ]
  },
  {
   "cell_type": "code",
   "execution_count": null,
   "metadata": {},
   "outputs": [],
   "source": [
    "m = l[0:2]\n",
    "\n",
    "print(m)\n",
    "\n",
    "print(sorted(l))\n",
    "\n",
    "print(l)\n",
    "print(len(l))"
   ]
  },
  {
   "cell_type": "markdown",
   "metadata": {},
   "source": [
    "#### Tuples   \n",
    "\n",
    "Linear/sequential storage. Immutable, heterogenous. Packing and unpacking. "
   ]
  },
  {
   "cell_type": "code",
   "execution_count": null,
   "metadata": {},
   "outputs": [],
   "source": [
    "person = 'Aashish','GS2019',1234,'NCBS' # packing to a tuple\n",
    "print(person)"
   ]
  },
  {
   "cell_type": "code",
   "execution_count": null,
   "metadata": {},
   "outputs": [],
   "source": [
    "name, BATCH,rollno, institute = person # unpack tuple\n",
    "print(name, BATCH,rollno, institute)"
   ]
  },
  {
   "cell_type": "markdown",
   "metadata": {},
   "source": [
    "#### Dictionaries \n",
    "\n",
    "Map of key-value pairs. "
   ]
  },
  {
   "cell_type": "code",
   "execution_count": null,
   "metadata": {},
   "outputs": [],
   "source": [
    "rooms_to_courses = {'Raspuri':['Dev Bio','Neuro Bio'],'Malgova':['Ecology'],'Haapus':['Stat Inference','Research Ethics']}  # rooms allotted to a course\n",
    "\n",
    "rooms_to_courses['Raspuri']"
   ]
  },
  {
   "cell_type": "markdown",
   "metadata": {},
   "source": [
    "### Conditionals and looping"
   ]
  },
  {
   "cell_type": "markdown",
   "metadata": {},
   "source": [
    "Change the sequence of execution of instructions based on conditions. \n",
    "\n",
    "#### Conditionals \n",
    "\n",
    "Evaluate to True or False. Based on this, code blocks are executed. "
   ]
  },
  {
   "cell_type": "code",
   "execution_count": null,
   "metadata": {},
   "outputs": [],
   "source": [
    "12.34 < 12.344 "
   ]
  },
  {
   "cell_type": "code",
   "execution_count": null,
   "metadata": {},
   "outputs": [],
   "source": [
    "a=12 # numerical example\n",
    "b=13\n",
    "c=14\n",
    "\n",
    "# numerical example\n",
    "if a<=b:  # boolean operators for integers/floats:  <= , <, >=,>, ==    \n",
    "    print(a,\"is smaller\")\n",
    "else:\n",
    "    print(b,\"is smaller\")"
   ]
  },
  {
   "cell_type": "code",
   "execution_count": null,
   "metadata": {},
   "outputs": [],
   "source": [
    "# multiple conditionals\n",
    "if (a<b) and (b<c): \n",
    "    print(f\"Order is {a} {b} {c}\") # formatted printing"
   ]
  },
  {
   "cell_type": "code",
   "execution_count": null,
   "metadata": {},
   "outputs": [],
   "source": [
    "# similarly, or and not\n",
    "if not (a>b or b>c): # evaluate True, False for each condition and then combine \n",
    "    print(\"Neither %d > %d nor %d > %d\" % (a,b,b,c)) # another formatted printing\n",
    "    "
   ]
  },
  {
   "cell_type": "code",
   "execution_count": null,
   "metadata": {},
   "outputs": [],
   "source": [
    "# string example\n",
    "traffic_light = \"RED\"\n",
    "    \n",
    "if traffic_light == \"RED\":  # string equivalence\n",
    "    print(\"STOP.\")\n",
    "else:\n",
    "    print(\"GO.\")    "
   ]
  },
  {
   "cell_type": "code",
   "execution_count": null,
   "metadata": {},
   "outputs": [],
   "source": [
    "if \"RE\" in traffic_light: # substring check\n",
    "    print(\"STOP.\")"
   ]
  },
  {
   "cell_type": "code",
   "execution_count": null,
   "metadata": {},
   "outputs": [],
   "source": [
    "# list belonging: in and not in\n",
    "if 24 in l:\n",
    "    print(\"yes, 24 is in the list\")\n",
    "else:\n",
    "    print(\"no 24 is not in the list\")\n",
    "    "
   ]
  },
  {
   "cell_type": "code",
   "execution_count": null,
   "metadata": {},
   "outputs": [],
   "source": [
    "# dictionary belonging, elif\n",
    "rooms_to_courses = {'Raspuri':['Dev Bio','Neuro Bio'],'Malgova':['Ecology'],'Haapus':['Stat Inference','Research Ethics']}  # rooms allotted to a course\n",
    "\n",
    "if 'Dasheri' in rooms_to_courses:\n",
    "    print(\"Dasheri is an allotted room.\")\n",
    "elif 'Safeda' in rooms_to_courses:\n",
    "    print(\"Dasheri is not allotted. Safeda is an allotted room.\")\n",
    "else:\n",
    "    print(\"Sorry, neither Dasheri nor Safeda are allotted.\")"
   ]
  },
  {
   "cell_type": "markdown",
   "metadata": {},
   "source": [
    "#### Looping \n",
    "\n",
    "Need atleast one looping variable and iterable sequence. "
   ]
  },
  {
   "cell_type": "code",
   "execution_count": null,
   "metadata": {},
   "outputs": [],
   "source": [
    "for i in range(1,21,2):\n",
    "    print(i)"
   ]
  },
  {
   "cell_type": "code",
   "execution_count": null,
   "metadata": {},
   "outputs": [],
   "source": [
    "alist = []\n",
    "adict = {}\n",
    "\n",
    "# loop over a range of numbers \n",
    "for i in range(20):   # range(start=0,end,step=1) \n",
    "    #alist.append(i) \n",
    "    adict[i] = i+1\n",
    "\n",
    "#alist\n",
    "adict "
   ]
  },
  {
   "cell_type": "code",
   "execution_count": null,
   "metadata": {},
   "outputs": [],
   "source": [
    "a = [i for i in range(1,10,2)] # list comprehension\n",
    "a"
   ]
  },
  {
   "cell_type": "code",
   "execution_count": null,
   "metadata": {},
   "outputs": [],
   "source": [
    "alist = [i for i in range(1,10,2)] # list comprehension\n",
    "\n",
    "for element in alist:    # loop over a list\n",
    "    print(element)"
   ]
  },
  {
   "cell_type": "code",
   "execution_count": null,
   "metadata": {},
   "outputs": [],
   "source": [
    "adict"
   ]
  },
  {
   "cell_type": "code",
   "execution_count": null,
   "metadata": {},
   "outputs": [],
   "source": [
    "for key in adict: # loop over a dictionary\n",
    "    print(key, adict[key])"
   ]
  },
  {
   "cell_type": "code",
   "execution_count": null,
   "metadata": {},
   "outputs": [],
   "source": [
    "# while loop, break and continue \n",
    "i=0 \n",
    "alist = []\n",
    "\n",
    "while i <=20 : \n",
    "    i = i+1\n",
    "    \n",
    "    if i==18:\n",
    "       continue\n",
    "    \n",
    "    #if i==16:\n",
    "    #    break\n",
    "    \n",
    "    alist.append(i)\n",
    "\n",
    "alist "
   ]
  },
  {
   "cell_type": "markdown",
   "metadata": {},
   "source": [
    "### Assignment 1\n",
    "1. Find the minimum element of a list without using inbuilt functions. \n",
    "    \n",
    "2. Swap two variables. "
   ]
  },
  {
   "cell_type": "markdown",
   "metadata": {},
   "source": [
    "## Part 2. Functions  "
   ]
  },
  {
   "cell_type": "markdown",
   "metadata": {},
   "source": [
    "### Functions\n",
    "\n",
    "Code block to make it easy to repeat a set of instructions. Modular code : good design practice, more readable, supports reuse. "
   ]
  },
  {
   "cell_type": "code",
   "execution_count": 1,
   "metadata": {},
   "outputs": [
    {
     "data": {
      "text/plain": [
       "169"
      ]
     },
     "execution_count": 1,
     "metadata": {},
     "output_type": "execute_result"
    }
   ],
   "source": [
    "def square(n): # function definition\n",
    "    n_square = n*n\n",
    "    return(n_square)  # return statement. Not a function. \n",
    "\n",
    "square(13) # function calling"
   ]
  },
  {
   "cell_type": "code",
   "execution_count": 3,
   "metadata": {},
   "outputs": [
    {
     "name": "stdout",
     "output_type": "stream",
     "text": [
      "-1\n"
     ]
    }
   ],
   "source": [
    "def min_list(a):\n",
    "    min_val = a[0]\n",
    "    \n",
    "    for i in a:\n",
    "        if i<min_val:\n",
    "            min_val=i\n",
    "    \n",
    "    return(min_val) \n",
    "\n",
    "a=[1,10,20,-1,40,50]\n",
    "    \n",
    "print(min_list(a))"
   ]
  },
  {
   "cell_type": "markdown",
   "metadata": {},
   "source": [
    "**Arguments**: input variables passed to the function. \n",
    "\n",
    "Some functions can have default arguments. "
   ]
  },
  {
   "cell_type": "code",
   "execution_count": 5,
   "metadata": {},
   "outputs": [
    {
     "data": {
      "text/plain": [
       "3"
      ]
     },
     "execution_count": 5,
     "metadata": {},
     "output_type": "execute_result"
    }
   ],
   "source": [
    "def linear_function(x,m=20,c=10):\n",
    "    y = m*x + c\n",
    "    return(y)\n",
    "\n",
    "#linear_function(1)\n",
    "\n",
    "linear_function(1,2,1)"
   ]
  },
  {
   "cell_type": "markdown",
   "metadata": {},
   "source": [
    "#### Local and global variables\n",
    "\n",
    "A code block (e.g. function) can have its own variables with the same name as outside. \n",
    "\n",
    "Value of a variable will correspond to the innermost block. \n",
    "\n",
    "Innermost block can access global variables as well.  "
   ]
  },
  {
   "cell_type": "code",
   "execution_count": 9,
   "metadata": {},
   "outputs": [
    {
     "name": "stdout",
     "output_type": "stream",
     "text": [
      "outside silly 20 39\n",
      "inside silly 10 39\n"
     ]
    }
   ],
   "source": [
    "def silly():\n",
    "    a = 10\n",
    "    print(\"inside silly\",a,b)\n",
    "    \n",
    "a = 20 \n",
    "b = 39\n",
    "\n",
    "print(\"outside silly\",a,b)\n",
    "\n",
    "silly()"
   ]
  },
  {
   "cell_type": "markdown",
   "metadata": {},
   "source": [
    "#### Python inbuilt functions\n",
    "\n",
    "Python modules: os, sys, string, math\n",
    "\n",
    "Called by \n",
    "\n",
    "`import os`\n",
    "\n",
    "`import sys`"
   ]
  },
  {
   "cell_type": "code",
   "execution_count": 12,
   "metadata": {},
   "outputs": [
    {
     "data": {
      "text/plain": [
       "13.0"
      ]
     },
     "execution_count": 12,
     "metadata": {},
     "output_type": "execute_result"
    }
   ],
   "source": [
    "import math\n",
    "\n",
    "math.sqrt(169) #module.function(arguments)\n",
    "\n",
    "#math.pow(2,4) \n",
    "\n",
    "#math.ceil(5.44)"
   ]
  },
  {
   "cell_type": "code",
   "execution_count": 14,
   "metadata": {},
   "outputs": [
    {
     "data": {
      "text/plain": [
       "['python_crash_course.ipynb', 'genes.txt', 'README.md', '.ipynb_checkpoints']"
      ]
     },
     "execution_count": 14,
     "metadata": {},
     "output_type": "execute_result"
    }
   ],
   "source": [
    "import os\n",
    "\n",
    "os.listdir()\n",
    "\n",
    "#os.getcwd()"
   ]
  },
  {
   "cell_type": "code",
   "execution_count": 15,
   "metadata": {},
   "outputs": [
    {
     "name": "stdout",
     "output_type": "stream",
     "text": [
      "Name:Shruthi,Dept:DAE,Position:Reader\n",
      "\n"
     ]
    }
   ],
   "source": [
    "import string\n",
    "\n",
    "test_string = \"Name:Shruthi,Dept:DAE,Position:Reader\\n\" # last character is \"Enter\"\n",
    "\n",
    "if test_string.startswith(\"Name\"): #similarly, endswith\n",
    "    print(test_string)\n",
    "    "
   ]
  },
  {
   "cell_type": "code",
   "execution_count": 16,
   "metadata": {},
   "outputs": [
    {
     "data": {
      "text/plain": [
       "'Name:Shruthi,Dept:DAE,Position:Reader'"
      ]
     },
     "execution_count": 16,
     "metadata": {},
     "output_type": "execute_result"
    }
   ],
   "source": [
    "# Strip\n",
    "test_string.strip()"
   ]
  },
  {
   "cell_type": "code",
   "execution_count": 17,
   "metadata": {},
   "outputs": [
    {
     "data": {
      "text/plain": [
       "'Name:Shruthi,Dept:DST,Position:Reader\\n'"
      ]
     },
     "execution_count": 17,
     "metadata": {},
     "output_type": "execute_result"
    }
   ],
   "source": [
    "# replace\n",
    "test_string.replace(\"DAE\",\"DST\")"
   ]
  },
  {
   "cell_type": "code",
   "execution_count": 21,
   "metadata": {},
   "outputs": [
    {
     "data": {
      "text/plain": [
       "'Shruthi'"
      ]
     },
     "execution_count": 21,
     "metadata": {},
     "output_type": "execute_result"
    }
   ],
   "source": [
    "# split\n",
    "fields = test_string.strip().split(',')\n",
    "\n",
    "#fields[0]\n",
    "#fields[0]\n",
    "\n",
    "fields[0].split(':')[1]\n"
   ]
  },
  {
   "cell_type": "markdown",
   "metadata": {},
   "source": [
    "### Assignment 2\n",
    "Given a list e.g.\n",
    "`a = [i for i in range(1,10)]`\n",
    "\n",
    "Write a function to take a list and return the sum of squares of the elements in the list. Use the square function above inside your function. "
   ]
  },
  {
   "cell_type": "markdown",
   "metadata": {},
   "source": [
    "## Part 3. File I/O and text parsing"
   ]
  },
  {
   "cell_type": "code",
   "execution_count": 23,
   "metadata": {},
   "outputs": [],
   "source": [
    "# Write to a file \n",
    "\n",
    "filename = 'marksheet.txt'\n",
    "\n",
    "with open(filename,'w') as f:\n",
    "    \n",
    "    print(\"spiderman\",\"NCBS\",28.0, file=f)\n",
    "    print(\"batman\",\"NCBS\",32.5,file=f)\n",
    "    print(\"ironman\",\"NCBS\",40.0,file=f)\n",
    "    print(\"hulk\",\"NCBS\",38.5,file=f)\n",
    "    print(\"wonderwoman\",\"NCBS\",38.5,file=f) # copied from hulk, so same score\n",
    "    print(\"superman\",\"ICTS\",27.0,file=f)\n",
    "    print(\"thor\",\"ICTS\",42.0,file=f)\n",
    "   "
   ]
  },
  {
   "cell_type": "code",
   "execution_count": 27,
   "metadata": {},
   "outputs": [
    {
     "name": "stdout",
     "output_type": "stream",
     "text": [
      "spiderman NCBS 28.0\n",
      "['spiderman', 'NCBS', '28.0']\n",
      "batman NCBS 32.5\n",
      "['batman', 'NCBS', '32.5']\n",
      "ironman NCBS 40.0\n",
      "['ironman', 'NCBS', '40.0']\n",
      "hulk NCBS 38.5\n",
      "['hulk', 'NCBS', '38.5']\n",
      "wonderwoman NCBS 38.5\n",
      "['wonderwoman', 'NCBS', '38.5']\n",
      "superman ICTS 27.0\n",
      "['superman', 'ICTS', '27.0']\n",
      "thor ICTS 42.0\n",
      "['thor', 'ICTS', '42.0']\n"
     ]
    },
    {
     "data": {
      "text/plain": [
       "{'spiderman': ('NCBS', 28.0),\n",
       " 'batman': ('NCBS', 32.5),\n",
       " 'ironman': ('NCBS', 40.0),\n",
       " 'hulk': ('NCBS', 38.5),\n",
       " 'wonderwoman': ('NCBS', 38.5),\n",
       " 'superman': ('ICTS', 27.0),\n",
       " 'thor': ('ICTS', 42.0)}"
      ]
     },
     "execution_count": 27,
     "metadata": {},
     "output_type": "execute_result"
    }
   ],
   "source": [
    "# read from a file and store in data structures\n",
    "filename = 'marksheet.txt'\n",
    "\n",
    "course_records = {} \n",
    "\n",
    "with open(filename,'r') as f:\n",
    "        for ln in f.readlines():\n",
    "            print(ln.strip())\n",
    "            \n",
    "            fields = ln.strip().split()\n",
    "            print(fields)\n",
    "            \n",
    "            course_records[fields[0]] = (fields[1],float(fields[2]))\n",
    "            \n",
    "course_records"
   ]
  },
  {
   "cell_type": "code",
   "execution_count": 28,
   "metadata": {},
   "outputs": [
    {
     "data": {
      "text/plain": [
       "12.3"
      ]
     },
     "execution_count": 28,
     "metadata": {},
     "output_type": "execute_result"
    }
   ],
   "source": [
    "12.3"
   ]
  },
  {
   "cell_type": "code",
   "execution_count": 31,
   "metadata": {},
   "outputs": [
    {
     "data": {
      "text/plain": [
       "13.3"
      ]
     },
     "execution_count": 31,
     "metadata": {},
     "output_type": "execute_result"
    }
   ],
   "source": [
    "float('12.3')+1.0"
   ]
  },
  {
   "cell_type": "markdown",
   "metadata": {},
   "source": [
    "Use **Pandas** module for even easier text processing! (advanced)\n"
   ]
  },
  {
   "cell_type": "markdown",
   "metadata": {},
   "source": [
    "### Assignment 3\n",
    "\n",
    "Given a list of human genes in the provided file (`genes.txt`), add names and Uniprot IDs of all the genes starting with `ABC` in a separate file. \n"
   ]
  },
  {
   "cell_type": "markdown",
   "metadata": {},
   "source": [
    "## Part 4 Numpy and Matplotlib"
   ]
  },
  {
   "cell_type": "markdown",
   "metadata": {},
   "source": [
    "Numpy module: support for scientific computation.\n",
    "\n",
    "E.g. efficient large-scale matrix operations (multi-dimensional arrays), generating random numbers, and so on.\n"
   ]
  },
  {
   "cell_type": "code",
   "execution_count": 32,
   "metadata": {},
   "outputs": [
    {
     "data": {
      "text/plain": [
       "array([1, 2, 3, 4, 5, 6])"
      ]
     },
     "execution_count": 32,
     "metadata": {},
     "output_type": "execute_result"
    }
   ],
   "source": [
    "# numpy arrays\n",
    "from numpy import *\n",
    "\n",
    "arr = array([1,2,3,4,5,6])\n",
    "arr"
   ]
  },
  {
   "cell_type": "code",
   "execution_count": 33,
   "metadata": {},
   "outputs": [
    {
     "data": {
      "text/plain": [
       "(6,)"
      ]
     },
     "execution_count": 33,
     "metadata": {},
     "output_type": "execute_result"
    }
   ],
   "source": [
    "arr.shape"
   ]
  },
  {
   "cell_type": "code",
   "execution_count": 34,
   "metadata": {},
   "outputs": [
    {
     "data": {
      "text/plain": [
       "1"
      ]
     },
     "execution_count": 34,
     "metadata": {},
     "output_type": "execute_result"
    }
   ],
   "source": [
    "arr[0]"
   ]
  },
  {
   "cell_type": "code",
   "execution_count": 35,
   "metadata": {},
   "outputs": [
    {
     "data": {
      "text/plain": [
       "5"
      ]
     },
     "execution_count": 35,
     "metadata": {},
     "output_type": "execute_result"
    }
   ],
   "source": [
    "arr[4]"
   ]
  },
  {
   "cell_type": "code",
   "execution_count": 36,
   "metadata": {},
   "outputs": [
    {
     "data": {
      "text/plain": [
       "array([[1, 2, 3],\n",
       "       [4, 5, 6]])"
      ]
     },
     "execution_count": 36,
     "metadata": {},
     "output_type": "execute_result"
    }
   ],
   "source": [
    "# 2D arrays == matrices\n",
    "arr = array([[1,2,3],[4,5,6]])\n",
    "arr "
   ]
  },
  {
   "cell_type": "code",
   "execution_count": 38,
   "metadata": {},
   "outputs": [
    {
     "data": {
      "text/plain": [
       "4"
      ]
     },
     "execution_count": 38,
     "metadata": {},
     "output_type": "execute_result"
    }
   ],
   "source": [
    "arr[1,0] # matrix element by row, col index"
   ]
  },
  {
   "cell_type": "code",
   "execution_count": 39,
   "metadata": {},
   "outputs": [
    {
     "data": {
      "text/plain": [
       "array([1, 4])"
      ]
     },
     "execution_count": 39,
     "metadata": {},
     "output_type": "execute_result"
    }
   ],
   "source": [
    " \n",
    "arr[:,0] # slicing first column"
   ]
  },
  {
   "cell_type": "code",
   "execution_count": 40,
   "metadata": {},
   "outputs": [
    {
     "data": {
      "text/plain": [
       "array([[0., 0., 0.],\n",
       "       [0., 0., 0.],\n",
       "       [0., 0., 0.]])"
      ]
     },
     "execution_count": 40,
     "metadata": {},
     "output_type": "execute_result"
    }
   ],
   "source": [
    "# prefilled arrays\n",
    "\n",
    "arr0 = zeros((3,3))\n",
    "\n",
    "arr0\n",
    "\n",
    "# similarly, \n",
    "# arr0 = ones((3,3))"
   ]
  },
  {
   "cell_type": "code",
   "execution_count": 41,
   "metadata": {},
   "outputs": [
    {
     "data": {
      "text/plain": [
       "array([1, 2, 0])"
      ]
     },
     "execution_count": 41,
     "metadata": {},
     "output_type": "execute_result"
    }
   ],
   "source": [
    "# matrix operations\n",
    "\n",
    "a = array([1,2,3])\n",
    "\n",
    "b = array([1,1,0])\n",
    "\n",
    "a*b # elementwise multiplication"
   ]
  },
  {
   "cell_type": "code",
   "execution_count": 42,
   "metadata": {},
   "outputs": [
    {
     "data": {
      "text/plain": [
       "3"
      ]
     },
     "execution_count": 42,
     "metadata": {},
     "output_type": "execute_result"
    }
   ],
   "source": [
    "dot(a,b) # matrix product\n",
    "# can also get dot product and cross products"
   ]
  },
  {
   "cell_type": "code",
   "execution_count": 43,
   "metadata": {},
   "outputs": [
    {
     "data": {
      "text/plain": [
       "array([ 0.        ,  0.1010101 ,  0.2020202 ,  0.3030303 ,  0.4040404 ,\n",
       "        0.50505051,  0.60606061,  0.70707071,  0.80808081,  0.90909091,\n",
       "        1.01010101,  1.11111111,  1.21212121,  1.31313131,  1.41414141,\n",
       "        1.51515152,  1.61616162,  1.71717172,  1.81818182,  1.91919192,\n",
       "        2.02020202,  2.12121212,  2.22222222,  2.32323232,  2.42424242,\n",
       "        2.52525253,  2.62626263,  2.72727273,  2.82828283,  2.92929293,\n",
       "        3.03030303,  3.13131313,  3.23232323,  3.33333333,  3.43434343,\n",
       "        3.53535354,  3.63636364,  3.73737374,  3.83838384,  3.93939394,\n",
       "        4.04040404,  4.14141414,  4.24242424,  4.34343434,  4.44444444,\n",
       "        4.54545455,  4.64646465,  4.74747475,  4.84848485,  4.94949495,\n",
       "        5.05050505,  5.15151515,  5.25252525,  5.35353535,  5.45454545,\n",
       "        5.55555556,  5.65656566,  5.75757576,  5.85858586,  5.95959596,\n",
       "        6.06060606,  6.16161616,  6.26262626,  6.36363636,  6.46464646,\n",
       "        6.56565657,  6.66666667,  6.76767677,  6.86868687,  6.96969697,\n",
       "        7.07070707,  7.17171717,  7.27272727,  7.37373737,  7.47474747,\n",
       "        7.57575758,  7.67676768,  7.77777778,  7.87878788,  7.97979798,\n",
       "        8.08080808,  8.18181818,  8.28282828,  8.38383838,  8.48484848,\n",
       "        8.58585859,  8.68686869,  8.78787879,  8.88888889,  8.98989899,\n",
       "        9.09090909,  9.19191919,  9.29292929,  9.39393939,  9.49494949,\n",
       "        9.5959596 ,  9.6969697 ,  9.7979798 ,  9.8989899 , 10.        ])"
      ]
     },
     "execution_count": 43,
     "metadata": {},
     "output_type": "execute_result"
    }
   ],
   "source": [
    "# Generating points\n",
    "\n",
    "# A. create linearly spaced points\n",
    "\n",
    "# linspace(start,end,number_points = 50)\n",
    "\n",
    "xlin = linspace(0,10,100)\n",
    "\n",
    "xlin"
   ]
  },
  {
   "cell_type": "code",
   "execution_count": 45,
   "metadata": {},
   "outputs": [
    {
     "data": {
      "text/plain": [
       "100"
      ]
     },
     "execution_count": 45,
     "metadata": {},
     "output_type": "execute_result"
    }
   ],
   "source": [
    "# B. generating points at random\n",
    "\n",
    "import random\n",
    "\n",
    "xrandint = [random.randrange(1,10) for n in range(100) ] # integer random number\n",
    "\n",
    "len(xrandint)"
   ]
  },
  {
   "cell_type": "code",
   "execution_count": 46,
   "metadata": {},
   "outputs": [
    {
     "data": {
      "text/plain": [
       "[0.13060932227457744,\n",
       " 0.669398695852554,\n",
       " 0.8847993493724693,\n",
       " 0.9474524446690449,\n",
       " 0.2814622278665384,\n",
       " 0.7599151640237714,\n",
       " 0.6968748677851203,\n",
       " 0.34683064605433334,\n",
       " 0.2502492366246232,\n",
       " 0.9714652008073814,\n",
       " 0.9197930249243449,\n",
       " 0.2263050745774159,\n",
       " 0.2737126534239398,\n",
       " 0.8882487600668005,\n",
       " 0.1051183975106923,\n",
       " 0.06215790977250746,\n",
       " 0.10196342519753976,\n",
       " 0.7914631310846639,\n",
       " 0.6940077486557039,\n",
       " 0.12522276829924273,\n",
       " 0.8990827129628033,\n",
       " 0.7968576938584366,\n",
       " 0.3354865405126516,\n",
       " 0.9056523344714789,\n",
       " 0.1653819558364129,\n",
       " 0.39552512529185246,\n",
       " 0.6274517806430976,\n",
       " 0.9220160588116215,\n",
       " 0.6589176377063833,\n",
       " 0.7021554877110519,\n",
       " 0.69670265409435,\n",
       " 0.3403315631001358,\n",
       " 0.36631398127452885,\n",
       " 0.993705058861541,\n",
       " 0.4203467364223119,\n",
       " 0.99841651693884,\n",
       " 0.4962956422394842,\n",
       " 0.14874164320772798,\n",
       " 0.46304294301711935,\n",
       " 0.7883685902726726,\n",
       " 0.9535305594412382,\n",
       " 0.9739199081125005,\n",
       " 0.6325026685130067,\n",
       " 0.9863485927545519,\n",
       " 0.4868583004367564,\n",
       " 0.5760513893637187,\n",
       " 0.6112013651197888,\n",
       " 0.9718480080640032,\n",
       " 0.7652111578658646,\n",
       " 0.6873147438354127,\n",
       " 0.42209990764062866,\n",
       " 0.7583468370823014,\n",
       " 0.8874784743905622,\n",
       " 0.9457841910731731,\n",
       " 0.32154166671678985,\n",
       " 0.8599719652364105,\n",
       " 0.3469814211184097,\n",
       " 0.050264698316337175,\n",
       " 0.20229681264670318,\n",
       " 0.5375700929618102,\n",
       " 0.301991478498431,\n",
       " 0.12623694529163554,\n",
       " 0.8416833610415104,\n",
       " 0.9527596622979142,\n",
       " 0.09454331827607321,\n",
       " 0.690967061568519,\n",
       " 0.6097915923103149,\n",
       " 0.09563462754519791,\n",
       " 0.13320324600942568,\n",
       " 0.38595147440304933,\n",
       " 0.8293698206259409,\n",
       " 0.5966797217329834,\n",
       " 0.035487782783756416,\n",
       " 0.7398429832362289,\n",
       " 0.047598969651415746,\n",
       " 0.7638708885546688,\n",
       " 0.050543643687027906,\n",
       " 0.3843635363086343,\n",
       " 0.5489495805091296,\n",
       " 0.32007119100377135,\n",
       " 0.20027827108279805,\n",
       " 0.15259379448420685,\n",
       " 0.42677323775215215,\n",
       " 0.2956968683738894,\n",
       " 0.6285425285703448,\n",
       " 0.7275690189527615,\n",
       " 0.9229730198312466,\n",
       " 0.644999462592033,\n",
       " 0.2267784562831714,\n",
       " 0.43018217834827166,\n",
       " 0.3326606148582478,\n",
       " 0.5390500121901128,\n",
       " 0.46313213122090335,\n",
       " 0.3311643081443366,\n",
       " 0.6958627452726928,\n",
       " 0.4004463250518453,\n",
       " 0.8667918569593188,\n",
       " 0.5652323981750911,\n",
       " 0.7394112074019045,\n",
       " 0.970171773805437]"
      ]
     },
     "execution_count": 46,
     "metadata": {},
     "output_type": "execute_result"
    }
   ],
   "source": [
    "xrand = [random.uniform(0,1) for n in range(100)] # floating point random number\n",
    "\n",
    "xrand "
   ]
  },
  {
   "cell_type": "code",
   "execution_count": 47,
   "metadata": {},
   "outputs": [
    {
     "data": {
      "text/plain": [
       "[-0.23331132010790495,\n",
       " 1.3520747168756726,\n",
       " 0.6959946441877362,\n",
       " 1.2718462679025166,\n",
       " 1.378758092642662,\n",
       " -0.7146901911455785,\n",
       " -0.4511422093848958,\n",
       " -0.28501533934079637,\n",
       " 0.7714367027201365,\n",
       " 1.3019497950959322,\n",
       " 0.8778515845280626,\n",
       " -0.5092209945218443,\n",
       " 1.368969946088802,\n",
       " 0.12119878443601437,\n",
       " -1.1276986303318914,\n",
       " 0.2873379909925303,\n",
       " 0.6025271447177613,\n",
       " 1.1118801719086344,\n",
       " 0.26781790952372897,\n",
       " 1.0296477657540066,\n",
       " 1.3048021301151869,\n",
       " -1.23285914174985,\n",
       " 1.2862693850798192,\n",
       " 0.2696308430007226,\n",
       " 0.414724527088484,\n",
       " -1.4809285306394346,\n",
       " 0.1547910049219334,\n",
       " 0.4762228214890854,\n",
       " 0.9324163560635437,\n",
       " -0.9845834063388315,\n",
       " -0.4567557553368921,\n",
       " -1.1223080131759198,\n",
       " -0.3824524737785229,\n",
       " 1.4507098962420162,\n",
       " -0.5719735184057566,\n",
       " 1.077338807335691,\n",
       " 0.4695032841487057,\n",
       " -0.4643607117942102,\n",
       " -0.7313274465252536,\n",
       " 1.81176042976916,\n",
       " 0.7425050216869417,\n",
       " -1.5584286599251083,\n",
       " 1.0055304458286969,\n",
       " 0.8935069206933473,\n",
       " -2.542367773872938,\n",
       " -0.26795373810304396,\n",
       " -0.7886608895084031,\n",
       " -0.6994628378334514,\n",
       " 0.40345416070785795,\n",
       " 0.610395366976294,\n",
       " -1.0922557386382905,\n",
       " 0.5165487213433501,\n",
       " -0.5180857755047482,\n",
       " -0.9916884218063996,\n",
       " 2.5207264130560585,\n",
       " 1.6364110894353563,\n",
       " 1.2292534198044476,\n",
       " 1.0555788166656521,\n",
       " 0.9109178401247434,\n",
       " 0.06440504883541716,\n",
       " 1.0145410271675097,\n",
       " 0.13156397124052474,\n",
       " -1.056073738202523,\n",
       " 1.1883895699286326,\n",
       " -0.0010164210557860722,\n",
       " -2.0474264664195685,\n",
       " -0.07232013250735239,\n",
       " 0.1944123011475658,\n",
       " -1.7633910062541633,\n",
       " -2.165073860997459,\n",
       " -1.7506931529454863,\n",
       " 0.5211121902189944,\n",
       " -0.0779594586912643,\n",
       " 0.2695789756141166,\n",
       " 1.5840958562842422,\n",
       " -1.447879103180064,\n",
       " 1.7893439545039758,\n",
       " 0.2244532690411824,\n",
       " 0.9571986700018137,\n",
       " 2.3888747406738595,\n",
       " 0.16374235712430774,\n",
       " 0.6600900811146279,\n",
       " 0.7905624775008121,\n",
       " 1.19930800761281,\n",
       " -0.6144406641497346,\n",
       " -1.226852123547028,\n",
       " -0.4259818881698208,\n",
       " 0.06920539974878626,\n",
       " 0.15818512721848052,\n",
       " 0.7499608788934479,\n",
       " -0.729203324995186,\n",
       " -0.6337071924702068,\n",
       " -0.3391341020538845,\n",
       " 1.892720619245009,\n",
       " -0.27357111930010036,\n",
       " -0.9320884932323757,\n",
       " 1.1662286993342035,\n",
       " -0.34300834249929,\n",
       " 1.1078622991169933,\n",
       " 1.2493638169867696]"
      ]
     },
     "execution_count": 47,
     "metadata": {},
     "output_type": "execute_result"
    }
   ],
   "source": [
    "# sample from a Gaussian distribution\n",
    "\n",
    "xgauss = [random.gauss(0,1) for n in range(100)] # mu =0, sigma = 1\n",
    "xgauss"
   ]
  },
  {
   "cell_type": "code",
   "execution_count": null,
   "metadata": {},
   "outputs": [],
   "source": [
    "from numpy import *\n",
    "\n",
    "# Function of normal distribution\n",
    "def normpdf(x, mu, sigma):\n",
    "    u = (x-mu)/abs(sigma)\n",
    "    y = (1/(sqrt(2*pi)*abs(sigma)))*exp(-u*u/2)\n",
    "    return y \n",
    "\n",
    "ygauss = [normpdf(x,0,1) for x in xgauss] # using inbuilt Gaussian function \n",
    "\n",
    "ylin = [normpdf(x,0,1) for x in xlin]\n",
    "\n",
    "yrand = [normpdf(x,0,1) for x in xrand]\n",
    "yrand"
   ]
  },
  {
   "cell_type": "code",
   "execution_count": 52,
   "metadata": {},
   "outputs": [
    {
     "data": {
      "image/png": "[encoded data removed]",
      "text/plain": [
       "<Figure size 432x288 with 1 Axes>"
      ]
     },
     "metadata": {
      "needs_background": "light"
     },
     "output_type": "display_data"
    }
   ],
   "source": [
    "# Now plot it\n",
    "\n",
    "import matplotlib.pyplot as plt\n",
    "\n",
    "# bar plot\n",
    "\n",
    "# plt.hist(xlin,bins=50,edgecolor=\"red\")\n",
    "\n",
    "# plt.hist(xgauss)\n",
    "\n",
    "# plt.hist(xrand)\n",
    "\n",
    "# plt.show()\n"
   ]
  },
  {
   "cell_type": "code",
   "execution_count": 54,
   "metadata": {},
   "outputs": [
    {
     "data": {
      "image/png": "[encoded data removed]",
      "text/plain": [
       "<Figure size 432x288 with 1 Axes>"
      ]
     },
     "metadata": {
      "needs_background": "light"
     },
     "output_type": "display_data"
    }
   ],
   "source": [
    "# scatter plot\n",
    "\n",
    "# Function of normal distribution\n",
    "def normpdf(x, mu, sigma):\n",
    "    u = (x-mu)/abs(sigma)\n",
    "    y = (1/(sqrt(2*pi)*abs(sigma)))*exp(-u*u/2)\n",
    "    return y \n",
    "\n",
    "ygauss = [normpdf(x,0,1) for x in xgauss] # using inbuilt Gaussian function \n",
    "\n",
    "plt.scatter(xgauss,ygauss)\n",
    "plt.title(\"Scatter plot\")\n",
    "plt.xlabel('sample from N(0,1)')\n",
    "plt.ylabel(' probability') \n",
    "\n",
    "plt.show()"
   ]
  },
  {
   "cell_type": "code",
   "execution_count": 56,
   "metadata": {},
   "outputs": [
    {
     "data": {
      "image/png": "[encoded data removed]",
      "text/plain": [
       "<Figure size 432x288 with 1 Axes>"
      ]
     },
     "metadata": {
      "needs_background": "light"
     },
     "output_type": "display_data"
    }
   ],
   "source": [
    "# line plot\n",
    "\n",
    "# Function of normal distribution\n",
    "def normpdf(x, mu, sigma):\n",
    "    u = (x-mu)/abs(sigma)\n",
    "    y = (1/(sqrt(2*pi)*abs(sigma)))*exp(-u*u/2)\n",
    "    return y \n",
    "\n",
    "\n",
    "ylin = [normpdf(x,0,1) for x in xlin]\n",
    "\n",
    "plt.plot(xlin,ylin)\n",
    "plt.title(\"Line plot\")\n",
    "plt.xlabel('sample from N(0,1)')\n",
    "plt.ylabel(' probability') \n",
    "\n",
    "plt.show()"
   ]
  },
  {
   "cell_type": "markdown",
   "metadata": {},
   "source": [
    "### Assignment 4\n",
    "\n",
    "One-dimensional line search.\n",
    "\n",
    "Given a function $y=6x^2 -12x-48 -0.5x^3 +24.5 cos(x)$, and a domain of $x$, say $x \\in [0,10]$. Find the $x$ that maximizes $y$ (an optimization problem). \n",
    "\n",
    "1. Generate 20 random values in the domain, compute $y$ for each of them and plot $x$ and $y$. What is the max value of $y$ obtained? **Pure random search**\n",
    "\n",
    "\n",
    "\n",
    "2. Start at $x=0$, generate 20 values of $x$ such that the next value is a random step from the current value. The maximum step size is 1 unit. Again compute $y$ for each of these 20 values, plot $x$ and $y$. What is the max value of $y$ obtained? **Rastrigin's random search**\n",
    "\n",
    "Hint: Use `x=x+random.uniform(0,1)`"
   ]
  },
  {
   "cell_type": "code",
   "execution_count": 57,
   "metadata": {},
   "outputs": [
    {
     "data": {
      "image/png": "[encoded data removed]",
      "text/plain": [
       "<Figure size 432x288 with 1 Axes>"
      ]
     },
     "metadata": {
      "needs_background": "light"
     },
     "output_type": "display_data"
    }
   ],
   "source": [
    "x=linspace(0,10,100)\n",
    "\n",
    "y = 6 *x*x -12*x-48 -0.5*x*x*x +24.6*cos(x)\n",
    "\n",
    "plt.plot(x,y)\n",
    "plt.show()"
   ]
  },
  {
   "cell_type": "code",
   "execution_count": null,
   "metadata": {},
   "outputs": [],
   "source": []
  }
 ],
 "metadata": {
  "kernelspec": {
   "display_name": "Python 3",
   "language": "python",
   "name": "python3"
  },
  "language_info": {
   "codemirror_mode": {
    "name": "ipython",
    "version": 3
   },
   "file_extension": ".py",
   "mimetype": "text/x-python",
   "name": "python",
   "nbconvert_exporter": "python",
   "pygments_lexer": "ipython3",
   "version": "3.8.6"
  }
 },
 "nbformat": 4,
 "nbformat_minor": 4
}
