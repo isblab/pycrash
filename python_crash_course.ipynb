{
 "cells": [
  {
   "cell_type": "markdown",
   "metadata": {},
   "source": [
    "# Introduction to python"
   ]
  },
  {
   "cell_type": "markdown",
   "metadata": {},
   "source": [
    "**Course logistics** : Four parts. Each part : lecture for 20-30 mins + assignment for 15 mins. Assigned to breakout rooms with TAs. \n",
    "\n",
    "* Python is an interpreted language; no need to compile. \n",
    "\n",
    "* Jupyter notebook: interactive environment for writing and running code, storing notes alongside. \n",
    "\n",
    "* Programming essentials : **storage** (data structures) and **control flow** (algorithms). "
   ]
  },
  {
   "cell_type": "markdown",
   "metadata": {},
   "source": [
    "## Part 1. Basic data structures, conditionals and looping"
   ]
  },
  {
   "cell_type": "markdown",
   "metadata": {},
   "source": [
    "### Data structures"
   ]
  },
  {
   "cell_type": "markdown",
   "metadata": {},
   "source": [
    "How/what information is stored in memory.\n",
    "\n",
    "All information stored in memory as registers (1's and 0's). \n",
    "\n",
    "Low-level languages (manipulate registers) and high-level languages (variables).  \n",
    "\n",
    "#### In-built/simple data types\n",
    "\n",
    "Assignment right to left. Values assigned stay as-is unless changed. "
   ]
  },
  {
   "cell_type": "code",
   "execution_count": 1,
   "metadata": {},
   "outputs": [
    {
     "name": "stdout",
     "output_type": "stream",
     "text": [
      "12 43.45 this course True\n"
     ]
    }
   ],
   "source": [
    "a = 12   \n",
    "\n",
    "# integer\n",
    "\n",
    "b = 43.45\n",
    "\n",
    "# floating point\n",
    "\n",
    "c = \"this course\"\n",
    "\n",
    "d = True\n",
    "\n",
    "# string\n",
    "\n",
    "# This is a comment\n",
    "\n",
    "print(a,b,c,d)"
   ]
  },
  {
   "cell_type": "markdown",
   "metadata": {},
   "source": [
    "#### User-defined/abstract data types"
   ]
  },
  {
   "cell_type": "markdown",
   "metadata": {},
   "source": [
    "#### Lists \n",
    "\n",
    "Linear/sequential storage. Random access of i'th element. "
   ]
  },
  {
   "cell_type": "code",
   "execution_count": 2,
   "metadata": {},
   "outputs": [],
   "source": [
    "l = [1,2,3,4,5] # this is a list\n",
    "\n",
    "m = [] # this is an empty list"
   ]
  },
  {
   "cell_type": "code",
   "execution_count": 3,
   "metadata": {},
   "outputs": [
    {
     "data": {
      "text/plain": [
       "[1, 2, 3, 19, 5]"
      ]
     },
     "execution_count": 3,
     "metadata": {},
     "output_type": "execute_result"
    }
   ],
   "source": [
    "l[3] = 19 # can access i'th element by a[i]. Index numbering starts from 0. \n",
    "l "
   ]
  },
  {
   "cell_type": "code",
   "execution_count": 4,
   "metadata": {},
   "outputs": [
    {
     "data": {
      "text/plain": [
       "[1, 2, 3, 19, 5, 6]"
      ]
     },
     "execution_count": 4,
     "metadata": {},
     "output_type": "execute_result"
    }
   ],
   "source": [
    "l.append(6) # add to the end of a list\n",
    "l"
   ]
  },
  {
   "cell_type": "code",
   "execution_count": 5,
   "metadata": {},
   "outputs": [
    {
     "data": {
      "text/plain": [
       "[1, 24, 2, 3, 19, 5, 6]"
      ]
     },
     "execution_count": 5,
     "metadata": {},
     "output_type": "execute_result"
    }
   ],
   "source": [
    "l.insert(1,24) # insert(i,x)  inserts x before index i. \n",
    "l"
   ]
  },
  {
   "cell_type": "code",
   "execution_count": 6,
   "metadata": {},
   "outputs": [
    {
     "name": "stdout",
     "output_type": "stream",
     "text": [
      "4\n"
     ]
    }
   ],
   "source": [
    "print(l.index(19)) # returns index of the element 19. "
   ]
  },
  {
   "cell_type": "code",
   "execution_count": 7,
   "metadata": {},
   "outputs": [
    {
     "name": "stdout",
     "output_type": "stream",
     "text": [
      "[1, 24]\n",
      "[1, 2, 3, 5, 6, 19, 24]\n",
      "[1, 24, 2, 3, 19, 5, 6]\n",
      "7\n"
     ]
    }
   ],
   "source": [
    "m = l[0:2]\n",
    "\n",
    "print(m)\n",
    "\n",
    "print(sorted(l))\n",
    "\n",
    "print(l)\n",
    "print(len(l))"
   ]
  },
  {
   "cell_type": "markdown",
   "metadata": {},
   "source": [
    "#### Tuples   \n",
    "\n",
    "Linear/sequential storage. Immutable, heterogenous. Packing and unpacking. "
   ]
  },
  {
   "cell_type": "code",
   "execution_count": 8,
   "metadata": {},
   "outputs": [
    {
     "name": "stdout",
     "output_type": "stream",
     "text": [
      "('Aashish', 'GS2019', 1234, 'NCBS')\n",
      "Aashish GS2019 1234 NCBS\n"
     ]
    }
   ],
   "source": [
    "person = 'Aashish','GS2019',1234,'NCBS' # packing to a tuple\n",
    "print(person)\n",
    "\n",
    "name, BATCH,rollno, institute = person # unpack tuple\n",
    "print(name, BATCH,rollno, institute)"
   ]
  },
  {
   "cell_type": "markdown",
   "metadata": {},
   "source": [
    "#### Dictionaries \n",
    "\n",
    "Map of key-value pairs. "
   ]
  },
  {
   "cell_type": "code",
   "execution_count": 9,
   "metadata": {},
   "outputs": [
    {
     "data": {
      "text/plain": [
       "['Dev Bio', 'Neuro Bio']"
      ]
     },
     "execution_count": 9,
     "metadata": {},
     "output_type": "execute_result"
    }
   ],
   "source": [
    "rooms_to_courses = {'Raspuri':['Dev Bio','Neuro Bio'],'Malgova':['Ecology'],'Haapus':['Stat Inference','Research Ethics']}  # rooms allotted to a course\n",
    "\n",
    "rooms_to_courses['Raspuri']"
   ]
  },
  {
   "cell_type": "markdown",
   "metadata": {},
   "source": [
    "### Conditionals and looping"
   ]
  },
  {
   "cell_type": "markdown",
   "metadata": {},
   "source": [
    "Change the sequence of execution of instructions based on conditions. \n",
    "\n",
    "#### Conditionals \n",
    "\n",
    "Evaluate to True or False. Based on this, code blocks are executed. "
   ]
  },
  {
   "cell_type": "code",
   "execution_count": 10,
   "metadata": {},
   "outputs": [
    {
     "data": {
      "text/plain": [
       "True"
      ]
     },
     "execution_count": 10,
     "metadata": {},
     "output_type": "execute_result"
    }
   ],
   "source": [
    "12.34 < 12.344 "
   ]
  },
  {
   "cell_type": "code",
   "execution_count": 11,
   "metadata": {},
   "outputs": [
    {
     "name": "stdout",
     "output_type": "stream",
     "text": [
      "12 is smaller\n"
     ]
    }
   ],
   "source": [
    "a=12 # numerical example\n",
    "b=13\n",
    "c=14\n",
    "\n",
    "# numerical example\n",
    "if a<=b:  # boolean operators for integers/floats:  <= , <, >=,>, ==    \n",
    "    print(a,\"is smaller\")\n",
    "else:\n",
    "    print(b,\"is smaller\")"
   ]
  },
  {
   "cell_type": "code",
   "execution_count": 12,
   "metadata": {},
   "outputs": [
    {
     "name": "stdout",
     "output_type": "stream",
     "text": [
      "Order is 12 13 14\n"
     ]
    }
   ],
   "source": [
    "# multiple conditionals\n",
    "if a<b and b<c: \n",
    "    print(f\"Order is {a} {b} {c}\") # formatted printing"
   ]
  },
  {
   "cell_type": "code",
   "execution_count": 13,
   "metadata": {},
   "outputs": [
    {
     "name": "stdout",
     "output_type": "stream",
     "text": [
      "Neither 12 > 13 nor 13 > 14\n"
     ]
    }
   ],
   "source": [
    "# similarly, or and not\n",
    "if not (a>b or b>c): # evaluate True, False for each condition and then combine \n",
    "    print(\"Neither %d > %d nor %d > %d\" % (a,b,b,c)) # another formatted printing\n",
    "    "
   ]
  },
  {
   "cell_type": "code",
   "execution_count": 14,
   "metadata": {},
   "outputs": [
    {
     "name": "stdout",
     "output_type": "stream",
     "text": [
      "STOP.\n"
     ]
    }
   ],
   "source": [
    "# string example\n",
    "traffic_light = \"RED\"\n",
    "    \n",
    "if traffic_light == \"RED\":  # string equivalence\n",
    "    print(\"STOP.\")\n",
    "else:\n",
    "    print(\"GO.\")    "
   ]
  },
  {
   "cell_type": "code",
   "execution_count": 15,
   "metadata": {},
   "outputs": [
    {
     "name": "stdout",
     "output_type": "stream",
     "text": [
      "STOP.\n"
     ]
    }
   ],
   "source": [
    "if \"RE\" in traffic_light: # substring check\n",
    "    print(\"STOP.\")"
   ]
  },
  {
   "cell_type": "code",
   "execution_count": 16,
   "metadata": {},
   "outputs": [
    {
     "name": "stdout",
     "output_type": "stream",
     "text": [
      "yes, 24 is in the list\n"
     ]
    }
   ],
   "source": [
    "# list belonging: in and not in\n",
    "if 24 in l:\n",
    "    print(\"yes, 24 is in the list\")\n",
    "else:\n",
    "    print(\"no 24 is not in the list\")\n",
    "    "
   ]
  },
  {
   "cell_type": "code",
   "execution_count": 17,
   "metadata": {},
   "outputs": [
    {
     "name": "stdout",
     "output_type": "stream",
     "text": [
      "Sorry, neither Dasheri nor Safeda are allotted.\n"
     ]
    }
   ],
   "source": [
    "# dictionary belonging, elif\n",
    "rooms_to_courses = {'Raspuri':['Dev Bio','Neuro Bio'],'Malgova':['Ecology'],'Haapus':['Stat Inference','Research Ethics']}  # rooms allotted to a course\n",
    "\n",
    "if 'Dasheri' in rooms_to_courses:\n",
    "    print(\"Dasheri is an allotted room.\")\n",
    "elif 'Safeda' in rooms_to_courses:\n",
    "    print(\"Dasheri is not allotted. Safeda is an allotted room.\")\n",
    "else:\n",
    "    print(\"Sorry, neither Dasheri nor Safeda are allotted.\")"
   ]
  },
  {
   "cell_type": "markdown",
   "metadata": {},
   "source": [
    "#### Looping \n",
    "\n",
    "Need atleast one looping variable and iterable sequence. "
   ]
  },
  {
   "cell_type": "code",
   "execution_count": 18,
   "metadata": {},
   "outputs": [
    {
     "data": {
      "text/plain": [
       "[0, 1, 2, 3, 4, 5, 6, 7, 8, 9, 10, 11, 12, 13, 14, 15, 16, 17, 18, 19]"
      ]
     },
     "execution_count": 18,
     "metadata": {},
     "output_type": "execute_result"
    }
   ],
   "source": [
    "alist = []\n",
    "adict = {}\n",
    "\n",
    "# loop over a range of numbers \n",
    "for i in range(20):   # range(start,end,step) \n",
    "    alist.append(i) \n",
    "    adict[i] = i+1\n",
    "\n",
    "alist\n",
    "#adict "
   ]
  },
  {
   "cell_type": "code",
   "execution_count": 19,
   "metadata": {},
   "outputs": [
    {
     "data": {
      "text/plain": [
       "[1, 3, 5, 7, 9]"
      ]
     },
     "execution_count": 19,
     "metadata": {},
     "output_type": "execute_result"
    }
   ],
   "source": [
    "a = [i for i in range(1,10,2)] # list comprehension\n",
    "a"
   ]
  },
  {
   "cell_type": "code",
   "execution_count": 20,
   "metadata": {},
   "outputs": [
    {
     "name": "stdout",
     "output_type": "stream",
     "text": [
      "0\n",
      "1\n",
      "2\n",
      "3\n",
      "4\n",
      "5\n",
      "6\n",
      "7\n",
      "8\n",
      "9\n",
      "10\n",
      "11\n",
      "12\n",
      "13\n",
      "14\n",
      "15\n",
      "16\n",
      "17\n",
      "18\n",
      "19\n"
     ]
    }
   ],
   "source": [
    "for element in alist:    # loop over a list\n",
    "    print(element)"
   ]
  },
  {
   "cell_type": "code",
   "execution_count": 21,
   "metadata": {},
   "outputs": [
    {
     "name": "stdout",
     "output_type": "stream",
     "text": [
      "0 1\n",
      "1 2\n",
      "2 3\n",
      "3 4\n",
      "4 5\n",
      "5 6\n",
      "6 7\n",
      "7 8\n",
      "8 9\n",
      "9 10\n",
      "10 11\n",
      "11 12\n",
      "12 13\n",
      "13 14\n",
      "14 15\n",
      "15 16\n",
      "16 17\n",
      "17 18\n",
      "18 19\n",
      "19 20\n"
     ]
    }
   ],
   "source": [
    "for key in adict: # loop over a dictionary\n",
    "    print(key, adict[key])"
   ]
  },
  {
   "cell_type": "code",
   "execution_count": null,
   "metadata": {},
   "outputs": [],
   "source": [
    "# while loop, break and continue \n",
    "while i in range(20): \n",
    "    if i<10:\n",
    "        continue\n",
    "    \n",
    "    alist.append(i)\n",
    "    if i==16:\n",
    "        break\n",
    "\n",
    "alist "
   ]
  },
  {
   "cell_type": "markdown",
   "metadata": {},
   "source": [
    "### Assignment 1\n",
    "1. Find the minimum element of a list without using inbuilt functions. \n",
    "    \n",
    "2. Swap two variables. "
   ]
  },
  {
   "cell_type": "markdown",
   "metadata": {},
   "source": [
    "## Part 2. Functions  "
   ]
  },
  {
   "cell_type": "markdown",
   "metadata": {},
   "source": [
    "### Functions\n",
    "\n",
    "Code block to make it easy to repeat a set of instructions. Modular code : good design practice, more readable, supports reuse. "
   ]
  },
  {
   "cell_type": "code",
   "execution_count": 23,
   "metadata": {},
   "outputs": [
    {
     "data": {
      "text/plain": [
       "169"
      ]
     },
     "execution_count": 23,
     "metadata": {},
     "output_type": "execute_result"
    }
   ],
   "source": [
    "def square(n): # function definition\n",
    "    n_square = n*n\n",
    "    return(n_square)\n",
    "\n",
    "square(13) # function calling"
   ]
  },
  {
   "cell_type": "code",
   "execution_count": 24,
   "metadata": {},
   "outputs": [
    {
     "name": "stdout",
     "output_type": "stream",
     "text": [
      "1\n"
     ]
    }
   ],
   "source": [
    "def min_list(a):\n",
    "    min_val = a[0]\n",
    "    \n",
    "    for i in a:\n",
    "        if i<min_val:\n",
    "            min_val=i\n",
    "    \n",
    "    return(min_val) \n",
    "\n",
    "a=[1,10,20,30,40,50]\n",
    "    \n",
    "print(min_list(a))"
   ]
  },
  {
   "cell_type": "markdown",
   "metadata": {},
   "source": [
    "**Arguments**: input variables passed to the function. \n",
    "\n",
    "Some functions can have default arguments. "
   ]
  },
  {
   "cell_type": "code",
   "execution_count": 25,
   "metadata": {},
   "outputs": [
    {
     "data": {
      "text/plain": [
       "30"
      ]
     },
     "execution_count": 25,
     "metadata": {},
     "output_type": "execute_result"
    }
   ],
   "source": [
    "def linear_function(x,m=20,c=10):\n",
    "    y = m*x + c\n",
    "    return(y)\n",
    "\n",
    "linear_function(1)\n",
    "\n",
    "#linear_function(1,2,1)"
   ]
  },
  {
   "cell_type": "markdown",
   "metadata": {},
   "source": [
    "#### Local and global variables\n",
    "\n",
    "A code block (e.g. function) can have its own variables with the same name as outside. \n",
    "\n",
    "Value of a variable will correspond to the innermost block. \n",
    "\n",
    "Innermost block can access global variables as well.  "
   ]
  },
  {
   "cell_type": "code",
   "execution_count": 26,
   "metadata": {},
   "outputs": [
    {
     "name": "stdout",
     "output_type": "stream",
     "text": [
      "20 39\n",
      "10 39\n"
     ]
    }
   ],
   "source": [
    "def silly():\n",
    "    a = 10\n",
    "    print(a,b)\n",
    "    \n",
    "a = 20 \n",
    "b = 39\n",
    "\n",
    "print(a,b)\n",
    "\n",
    "silly()"
   ]
  },
  {
   "cell_type": "markdown",
   "metadata": {},
   "source": [
    "#### Python inbuilt functions\n",
    "\n",
    "Python modules: os, sys, string, math\n",
    "\n",
    "Called by \n",
    "\n",
    "`import os`\n",
    "\n",
    "`import sys`"
   ]
  },
  {
   "cell_type": "code",
   "execution_count": 27,
   "metadata": {},
   "outputs": [
    {
     "data": {
      "text/plain": [
       "6"
      ]
     },
     "execution_count": 27,
     "metadata": {},
     "output_type": "execute_result"
    }
   ],
   "source": [
    "import math\n",
    "\n",
    "math.sqrt(169) #module.function(arguments)\n",
    "\n",
    "math.pow(2,4) \n",
    "\n",
    "math.ceil(5.44)"
   ]
  },
  {
   "cell_type": "code",
   "execution_count": 28,
   "metadata": {},
   "outputs": [
    {
     "data": {
      "text/plain": [
       "'/mnt/F2609B43609B0E0B/Scripts/Python/pycrash'"
      ]
     },
     "execution_count": 28,
     "metadata": {},
     "output_type": "execute_result"
    }
   ],
   "source": [
    "import os\n",
    "\n",
    "os.listdir()\n",
    "\n",
    "os.getcwd()"
   ]
  },
  {
   "cell_type": "code",
   "execution_count": 29,
   "metadata": {},
   "outputs": [
    {
     "name": "stdout",
     "output_type": "stream",
     "text": [
      "Name:Shruthi,Dept:DAE,Position:Reader\n",
      "\n"
     ]
    }
   ],
   "source": [
    "import string\n",
    "\n",
    "test_string = \"Name:Shruthi,Dept:DAE,Position:Reader\\n\" # last character is \"Enter\"\n",
    "\n",
    "if test_string.startswith(\"Name\"): #similarly, endswith\n",
    "    print(test_string)\n",
    "    "
   ]
  },
  {
   "cell_type": "code",
   "execution_count": 30,
   "metadata": {},
   "outputs": [
    {
     "data": {
      "text/plain": [
       "'Name:Shruthi,Dept:DAE,Position:Reader'"
      ]
     },
     "execution_count": 30,
     "metadata": {},
     "output_type": "execute_result"
    }
   ],
   "source": [
    "# Strip\n",
    "test_string.strip()"
   ]
  },
  {
   "cell_type": "code",
   "execution_count": 31,
   "metadata": {},
   "outputs": [
    {
     "data": {
      "text/plain": [
       "'Name:Shruthi,Dept:DST,Position:Reader\\n'"
      ]
     },
     "execution_count": 31,
     "metadata": {},
     "output_type": "execute_result"
    }
   ],
   "source": [
    "# replace\n",
    "test_string.replace(\"DAE\",\"DST\")"
   ]
  },
  {
   "cell_type": "code",
   "execution_count": 32,
   "metadata": {},
   "outputs": [
    {
     "data": {
      "text/plain": [
       "'Shruthi'"
      ]
     },
     "execution_count": 32,
     "metadata": {},
     "output_type": "execute_result"
    }
   ],
   "source": [
    "# split\n",
    "fields = test_string.strip().split(',')\n",
    "\n",
    "#fields[0]\n",
    "\n",
    "fields[0].split(':')[1]\n"
   ]
  },
  {
   "cell_type": "markdown",
   "metadata": {},
   "source": [
    "### Assignment 2\n",
    "Given a list e.g.\n",
    "`a = [i for i in range(1,10)]`\n",
    "\n",
    "Write a function to take a list and return the sum of squares of the elements in the list. Use the square function above inside your function. "
   ]
  },
  {
   "cell_type": "markdown",
   "metadata": {},
   "source": [
    "## Part 3. File I/O and text parsing"
   ]
  },
  {
   "cell_type": "code",
   "execution_count": 33,
   "metadata": {},
   "outputs": [],
   "source": [
    "# Write to a file \n",
    "\n",
    "filename = 'marksheet.txt'\n",
    "\n",
    "with open(filename,'w') as f:\n",
    "    \n",
    "    print(\"spiderman\",\"NCBS\",28.0, file=f)\n",
    "    print(\"batman\",\"NCBS\",32.5,file=f)\n",
    "    print(\"ironman\",\"NCBS\",40.0,file=f)\n",
    "    print(\"hulk\",\"NCBS\",38.5,file=f)\n",
    "    print(\"wonderwoman\",\"NCBS\",38.5,file=f) # copied from hulk, so same score\n",
    "    print(\"superman\",\"ICTS\",27.0,file=f)\n",
    "    print(\"thor\",\"ICTS\",42.0,file=f)\n",
    "   "
   ]
  },
  {
   "cell_type": "code",
   "execution_count": 34,
   "metadata": {},
   "outputs": [
    {
     "name": "stdout",
     "output_type": "stream",
     "text": [
      "spiderman NCBS 28.0\n",
      "\n",
      "batman NCBS 32.5\n",
      "\n",
      "ironman NCBS 40.0\n",
      "\n",
      "hulk NCBS 38.5\n",
      "\n",
      "wonderwoman NCBS 38.5\n",
      "\n",
      "superman ICTS 27.0\n",
      "\n",
      "thor ICTS 42.0\n",
      "\n"
     ]
    }
   ],
   "source": [
    "# read from a file and store in data structures\n",
    "filename = 'marksheet.txt'\n",
    "\n",
    "course_records = {} \n",
    "\n",
    "with open(filename,'r') as f:\n",
    "        for ln in f.readlines():\n",
    "            print(ln)\n",
    "            \n",
    "            #fields = ln.strip().split()\n",
    "            #print(fields)\n",
    "            \n",
    "            # fields = ln.strip().split()\n",
    "            # course_records[fields[0]] = (fields[1],float(fields[2]))\n",
    "            \n",
    "#course_records"
   ]
  },
  {
   "cell_type": "markdown",
   "metadata": {},
   "source": [
    "Use **Pandas** module for even easier text processing! (advanced)\n"
   ]
  },
  {
   "cell_type": "markdown",
   "metadata": {},
   "source": [
    "### Assignment 3\n",
    "\n",
    "Given a list of human genes in the provided file (`genes.txt`), add names and Uniprot IDs of all the genes starting with `ABC` in a separate file. \n"
   ]
  },
  {
   "cell_type": "markdown",
   "metadata": {},
   "source": [
    "## Part 4 Numpy and Matplotlib"
   ]
  },
  {
   "cell_type": "markdown",
   "metadata": {},
   "source": [
    "Numpy module: support for scientific computation.\n",
    "\n",
    "E.g. efficient large-scale matrix operations (multi-dimensional arrays), generating random numbers, and so on.\n"
   ]
  },
  {
   "cell_type": "code",
   "execution_count": 35,
   "metadata": {},
   "outputs": [
    {
     "data": {
      "text/plain": [
       "5"
      ]
     },
     "execution_count": 35,
     "metadata": {},
     "output_type": "execute_result"
    }
   ],
   "source": [
    "# numpy arrays\n",
    "from numpy import *\n",
    "\n",
    "arr = array([1,2,3,4,5,6])\n",
    "arr\n",
    "\n",
    "arr.shape\n",
    "\n",
    "arr[0]\n",
    "\n",
    "arr[4]"
   ]
  },
  {
   "cell_type": "code",
   "execution_count": 36,
   "metadata": {},
   "outputs": [
    {
     "data": {
      "text/plain": [
       "array([1, 4])"
      ]
     },
     "execution_count": 36,
     "metadata": {},
     "output_type": "execute_result"
    }
   ],
   "source": [
    "# 2D arrays == matrices\n",
    "arr = array([[1,2,3],[4,5,6]])\n",
    "\n",
    "arr[1,2] # matrix element by row, col index\n",
    "\n",
    "arr[:,0] # slicing first column\n"
   ]
  },
  {
   "cell_type": "code",
   "execution_count": 37,
   "metadata": {},
   "outputs": [
    {
     "data": {
      "text/plain": [
       "array([[0., 0., 0.],\n",
       "       [0., 0., 0.],\n",
       "       [0., 0., 0.]])"
      ]
     },
     "execution_count": 37,
     "metadata": {},
     "output_type": "execute_result"
    }
   ],
   "source": [
    "# prefilled arrays\n",
    "\n",
    "arr0 = zeros((3,3))\n",
    "\n",
    "arr0\n",
    "\n",
    "# similarly, \n",
    "# arr0 = ones((3,3))"
   ]
  },
  {
   "cell_type": "code",
   "execution_count": 38,
   "metadata": {},
   "outputs": [
    {
     "data": {
      "text/plain": [
       "array([1, 2, 0])"
      ]
     },
     "execution_count": 38,
     "metadata": {},
     "output_type": "execute_result"
    }
   ],
   "source": [
    "# matrix operations\n",
    "\n",
    "a = array([1,2,3])\n",
    "\n",
    "b = array([1,1,0])\n",
    "\n",
    "a*b # elementwise multiplication"
   ]
  },
  {
   "cell_type": "code",
   "execution_count": 39,
   "metadata": {},
   "outputs": [
    {
     "data": {
      "text/plain": [
       "3"
      ]
     },
     "execution_count": 39,
     "metadata": {},
     "output_type": "execute_result"
    }
   ],
   "source": [
    "dot(a,b) # matrix product\n",
    "# can also get dot product and cross products"
   ]
  },
  {
   "cell_type": "code",
   "execution_count": 40,
   "metadata": {},
   "outputs": [
    {
     "data": {
      "text/plain": [
       "array([ 0.        ,  0.1010101 ,  0.2020202 ,  0.3030303 ,  0.4040404 ,\n",
       "        0.50505051,  0.60606061,  0.70707071,  0.80808081,  0.90909091,\n",
       "        1.01010101,  1.11111111,  1.21212121,  1.31313131,  1.41414141,\n",
       "        1.51515152,  1.61616162,  1.71717172,  1.81818182,  1.91919192,\n",
       "        2.02020202,  2.12121212,  2.22222222,  2.32323232,  2.42424242,\n",
       "        2.52525253,  2.62626263,  2.72727273,  2.82828283,  2.92929293,\n",
       "        3.03030303,  3.13131313,  3.23232323,  3.33333333,  3.43434343,\n",
       "        3.53535354,  3.63636364,  3.73737374,  3.83838384,  3.93939394,\n",
       "        4.04040404,  4.14141414,  4.24242424,  4.34343434,  4.44444444,\n",
       "        4.54545455,  4.64646465,  4.74747475,  4.84848485,  4.94949495,\n",
       "        5.05050505,  5.15151515,  5.25252525,  5.35353535,  5.45454545,\n",
       "        5.55555556,  5.65656566,  5.75757576,  5.85858586,  5.95959596,\n",
       "        6.06060606,  6.16161616,  6.26262626,  6.36363636,  6.46464646,\n",
       "        6.56565657,  6.66666667,  6.76767677,  6.86868687,  6.96969697,\n",
       "        7.07070707,  7.17171717,  7.27272727,  7.37373737,  7.47474747,\n",
       "        7.57575758,  7.67676768,  7.77777778,  7.87878788,  7.97979798,\n",
       "        8.08080808,  8.18181818,  8.28282828,  8.38383838,  8.48484848,\n",
       "        8.58585859,  8.68686869,  8.78787879,  8.88888889,  8.98989899,\n",
       "        9.09090909,  9.19191919,  9.29292929,  9.39393939,  9.49494949,\n",
       "        9.5959596 ,  9.6969697 ,  9.7979798 ,  9.8989899 , 10.        ])"
      ]
     },
     "execution_count": 40,
     "metadata": {},
     "output_type": "execute_result"
    }
   ],
   "source": [
    "# Generating points\n",
    "\n",
    "# A. create linearly spaced points\n",
    "\n",
    "# linspace(start,end,number_points = 50)\n",
    "\n",
    "xlin = linspace(0,10,100)\n",
    "\n",
    "xlin"
   ]
  },
  {
   "cell_type": "code",
   "execution_count": 41,
   "metadata": {},
   "outputs": [
    {
     "data": {
      "text/plain": [
       "[6,\n",
       " 1,\n",
       " 7,\n",
       " 9,\n",
       " 3,\n",
       " 9,\n",
       " 5,\n",
       " 8,\n",
       " 6,\n",
       " 4,\n",
       " 6,\n",
       " 7,\n",
       " 9,\n",
       " 7,\n",
       " 4,\n",
       " 3,\n",
       " 4,\n",
       " 9,\n",
       " 6,\n",
       " 3,\n",
       " 1,\n",
       " 6,\n",
       " 1,\n",
       " 3,\n",
       " 2,\n",
       " 2,\n",
       " 1,\n",
       " 1,\n",
       " 5,\n",
       " 7,\n",
       " 1,\n",
       " 5,\n",
       " 9,\n",
       " 1,\n",
       " 3,\n",
       " 4,\n",
       " 6,\n",
       " 1,\n",
       " 5,\n",
       " 3,\n",
       " 1,\n",
       " 7,\n",
       " 2,\n",
       " 3,\n",
       " 1,\n",
       " 2,\n",
       " 6,\n",
       " 8,\n",
       " 9,\n",
       " 7,\n",
       " 6,\n",
       " 4,\n",
       " 9,\n",
       " 8,\n",
       " 9,\n",
       " 9,\n",
       " 2,\n",
       " 4,\n",
       " 7,\n",
       " 5,\n",
       " 4,\n",
       " 6,\n",
       " 1,\n",
       " 6,\n",
       " 1,\n",
       " 7,\n",
       " 3,\n",
       " 6,\n",
       " 1,\n",
       " 6,\n",
       " 7,\n",
       " 8,\n",
       " 4,\n",
       " 3,\n",
       " 7,\n",
       " 2,\n",
       " 2,\n",
       " 7,\n",
       " 2,\n",
       " 7,\n",
       " 3,\n",
       " 5,\n",
       " 5,\n",
       " 2,\n",
       " 6,\n",
       " 1,\n",
       " 1,\n",
       " 3,\n",
       " 8,\n",
       " 3,\n",
       " 9,\n",
       " 6,\n",
       " 6,\n",
       " 7,\n",
       " 9,\n",
       " 6,\n",
       " 4,\n",
       " 2,\n",
       " 2,\n",
       " 1]"
      ]
     },
     "execution_count": 41,
     "metadata": {},
     "output_type": "execute_result"
    }
   ],
   "source": [
    "# B. generating points at random\n",
    "\n",
    "import random\n",
    "\n",
    "xrandint = [random.randrange(1,10) for n in range(100) ] # integer random number\n",
    "\n",
    "xrandint"
   ]
  },
  {
   "cell_type": "code",
   "execution_count": 42,
   "metadata": {},
   "outputs": [
    {
     "data": {
      "text/plain": [
       "[0.8904025095400634,\n",
       " 0.6389541693741715,\n",
       " 0.10262747346818524,\n",
       " 0.04638786638014336,\n",
       " 0.10316566883557976,\n",
       " 0.6888198422522888,\n",
       " 0.4269266312040737,\n",
       " 0.03900965713501181,\n",
       " 0.3065669712407436,\n",
       " 0.5279657581623258,\n",
       " 0.16858901423057626,\n",
       " 0.9542537196316647,\n",
       " 0.8183178980981111,\n",
       " 0.796895503799006,\n",
       " 0.3962591687016104,\n",
       " 0.41423880176908723,\n",
       " 0.9370725646328465,\n",
       " 0.08933586460905762,\n",
       " 0.029605888121657986,\n",
       " 0.8248022329423959,\n",
       " 0.023344809333950334,\n",
       " 0.5518791696110622,\n",
       " 0.7918881809692372,\n",
       " 0.8113072434732252,\n",
       " 0.974032094924772,\n",
       " 0.7336964192081479,\n",
       " 0.04204011339631264,\n",
       " 0.16066866243584044,\n",
       " 0.8532083755427196,\n",
       " 0.902649660309148,\n",
       " 0.1666887483954147,\n",
       " 0.6676827268800887,\n",
       " 0.9161641732486336,\n",
       " 0.7684973282367767,\n",
       " 0.3275984171408274,\n",
       " 0.7809582982152392,\n",
       " 0.16540005097395039,\n",
       " 0.7184173919235773,\n",
       " 0.4061308455116287,\n",
       " 0.3013693233480337,\n",
       " 0.9986321973415279,\n",
       " 0.27724056698606836,\n",
       " 0.36633104173569375,\n",
       " 0.8371250423090288,\n",
       " 0.7581928308924016,\n",
       " 0.23491331016612393,\n",
       " 0.6202458557529582,\n",
       " 0.4604257801216074,\n",
       " 0.21463938094670265,\n",
       " 0.2861079064250117,\n",
       " 0.7606107448865552,\n",
       " 0.1075233014394249,\n",
       " 0.5422895335475859,\n",
       " 0.24070848853086124,\n",
       " 0.5780259014263125,\n",
       " 0.8798336614026763,\n",
       " 0.302484730034529,\n",
       " 0.8437784111492237,\n",
       " 0.577103944457642,\n",
       " 0.6132258630987685,\n",
       " 0.0097390414796924,\n",
       " 0.8733267205393446,\n",
       " 0.40917784038867155,\n",
       " 0.19643009249012577,\n",
       " 0.5771554728126393,\n",
       " 0.9359566091312838,\n",
       " 0.09304992687436597,\n",
       " 0.2765468623486631,\n",
       " 0.169392991893623,\n",
       " 0.7137718924263136,\n",
       " 0.9263469661126085,\n",
       " 0.9819262195975836,\n",
       " 0.13542015065871382,\n",
       " 0.7997779798241897,\n",
       " 0.9708870009265061,\n",
       " 0.8745048399841047,\n",
       " 0.8717017145385706,\n",
       " 0.6526114604229093,\n",
       " 0.18549711385526302,\n",
       " 0.01434138788833339,\n",
       " 0.7611570064404465,\n",
       " 0.7556388843020029,\n",
       " 0.1373960394390793,\n",
       " 0.6867237244346751,\n",
       " 0.1220796806983756,\n",
       " 0.7441608594230442,\n",
       " 0.43817706200102813,\n",
       " 0.4781980493054141,\n",
       " 0.5183161368003317,\n",
       " 0.794869047467216,\n",
       " 0.600858459100172,\n",
       " 0.44464365039190823,\n",
       " 0.8495121437541212,\n",
       " 0.3930450814556887,\n",
       " 0.5775682600594058,\n",
       " 0.7518120887434872,\n",
       " 0.9106306321757096,\n",
       " 0.11913859339241684,\n",
       " 0.7151196118005744,\n",
       " 0.25103280420706]"
      ]
     },
     "execution_count": 42,
     "metadata": {},
     "output_type": "execute_result"
    }
   ],
   "source": [
    "xrand = [random.uniform(0,1) for n in range(100)] # floating point random number\n",
    "\n",
    "xrand "
   ]
  },
  {
   "cell_type": "code",
   "execution_count": 43,
   "metadata": {},
   "outputs": [
    {
     "data": {
      "text/plain": [
       "[-0.8661339581447783,\n",
       " -1.192940565189573,\n",
       " 0.9913756410279029,\n",
       " -1.112888678116836,\n",
       " 0.5662149553279461,\n",
       " -1.4810031357403224,\n",
       " 1.7853657496834008,\n",
       " 0.17301247869584926,\n",
       " 1.4996447236284416,\n",
       " 0.8362455700943499,\n",
       " 0.27234275772821087,\n",
       " 0.8029028427419171,\n",
       " -1.2087960869620418,\n",
       " 0.30098123643106994,\n",
       " 1.3258425628175319,\n",
       " 1.147950689809193,\n",
       " -1.4262922663919866,\n",
       " 0.41986817861464243,\n",
       " -1.374653615541687,\n",
       " 0.7668516073958752,\n",
       " -0.8414243884825294,\n",
       " 0.27141240253058607,\n",
       " -0.17546299830484072,\n",
       " -0.6005730852295382,\n",
       " -0.41752393571411633,\n",
       " 2.745374803755906,\n",
       " 0.5269351818141664,\n",
       " 2.0466597199087984,\n",
       " 0.30205956658709776,\n",
       " -0.6967816908118537,\n",
       " 0.722360530239583,\n",
       " 0.07815789281404821,\n",
       " -0.4904145536821489,\n",
       " -2.2394510155897938,\n",
       " 0.8545007391155527,\n",
       " 1.0850849335894834,\n",
       " 1.5331784510764221,\n",
       " 1.5325739352500374,\n",
       " 0.34720012626576713,\n",
       " -0.16351347015736267,\n",
       " -0.2508779207325395,\n",
       " -1.5735763049168383,\n",
       " -1.0979378160930964,\n",
       " -0.0639638693547465,\n",
       " 0.39408530604880126,\n",
       " 1.5074136834364524,\n",
       " 0.0168690481368385,\n",
       " -0.5055566280431394,\n",
       " -0.5863398556077616,\n",
       " 0.5015909590183213,\n",
       " -0.6207914939494203,\n",
       " -0.79480530773842,\n",
       " 0.05763602661947262,\n",
       " 0.9949246058090406,\n",
       " -1.4105133749498293,\n",
       " -0.24133896645496924,\n",
       " 1.8689941643676833,\n",
       " 0.4318138019066502,\n",
       " -0.20647818415215966,\n",
       " 0.9680514734831781,\n",
       " 0.27642322066386754,\n",
       " 0.3852550626765093,\n",
       " 2.0415720897790615,\n",
       " -0.7658220939610492,\n",
       " 0.6606706337125587,\n",
       " 0.007872974458051435,\n",
       " 2.1417023736046783,\n",
       " 0.15789561182837789,\n",
       " -0.40741090432888255,\n",
       " -2.032165028900506,\n",
       " -1.0508560380702787,\n",
       " 0.5236086783409413,\n",
       " -0.6652662898837878,\n",
       " 2.6762342483352217,\n",
       " -0.9025045825500807,\n",
       " 0.39842384100987416,\n",
       " 0.6004392135104492,\n",
       " 0.14630124093513924,\n",
       " 0.41108177025611936,\n",
       " 0.11468386023576292,\n",
       " -0.9655656187635874,\n",
       " 1.062102618076176,\n",
       " 0.73886804321041,\n",
       " 0.5148305927452294,\n",
       " 0.134772556435042,\n",
       " -0.31395911223177336,\n",
       " -0.17171026456105398,\n",
       " 0.46402462118796506,\n",
       " -0.7983934950682813,\n",
       " 1.551052554789875,\n",
       " 0.5010837898796016,\n",
       " -0.12705666708934948,\n",
       " -0.431820563776132,\n",
       " 0.34143714226435756,\n",
       " -0.14449836821843165,\n",
       " 0.0904274477989786,\n",
       " -1.0181315799079158,\n",
       " -0.5090422858250082,\n",
       " 0.9943790189306617,\n",
       " 0.08304533254368984]"
      ]
     },
     "execution_count": 43,
     "metadata": {},
     "output_type": "execute_result"
    }
   ],
   "source": [
    "# sample from a Gaussian distribution\n",
    "\n",
    "xgauss = [random.gauss(0,1) for n in range(100)] # mu =0, sigma = 1\n",
    "xgauss"
   ]
  },
  {
   "cell_type": "code",
   "execution_count": 44,
   "metadata": {},
   "outputs": [
    {
     "data": {
      "text/plain": [
       "[0.26838121968440654,\n",
       " 0.32527973347124245,\n",
       " 0.3968468931073823,\n",
       " 0.39851328241506045,\n",
       " 0.3968249169469223,\n",
       " 0.314687586641143,\n",
       " 0.3641928633044494,\n",
       " 0.39863884997685073,\n",
       " 0.3806289788406298,\n",
       " 0.34704096401007134,\n",
       " 0.3933129549175727,\n",
       " 0.25303217765870606,\n",
       " 0.285429383317147,\n",
       " 0.29041052453043686,\n",
       " 0.3688190267739852,\n",
       " 0.36614149363787657,\n",
       " 0.2571769193213098,\n",
       " 0.39735349392922975,\n",
       " 0.3987674805355013,\n",
       " 0.28391286680001143,\n",
       " 0.39883358740449665,\n",
       " 0.34258898591667863,\n",
       " 0.2915680132530434,\n",
       " 0.28706452725269255,\n",
       " 0.24825277591733233,\n",
       " 0.3048017386407126,\n",
       " 0.39858989658727784,\n",
       " 0.39382613738437766,\n",
       " 0.27722639413755285,\n",
       " 0.26545054208122093,\n",
       " 0.39343826803716864,\n",
       " 0.31923152840306057,\n",
       " 0.2622080701880782,\n",
       " 0.296937795475762,\n",
       " 0.3780991203226337,\n",
       " 0.294084992001705,\n",
       " 0.3935224653551493,\n",
       " 0.30820186411706585,\n",
       " 0.3673612197284486,\n",
       " 0.3812308172514929,\n",
       " 0.2423016925129415,\n",
       " 0.38390133512180796,\n",
       " 0.3730518916631405,\n",
       " 0.2810204879547904,\n",
       " 0.29928268495146376,\n",
       " 0.3880850878374001,\n",
       " 0.3291337769498908,\n",
       " 0.35881997354991857,\n",
       " 0.38985766612291195,\n",
       " 0.38294366083695325,\n",
       " 0.29873365580869965,\n",
       " 0.39664279525662016,\n",
       " 0.344391047137453,\n",
       " 0.3875506141992364,\n",
       " 0.3375655705042388,\n",
       " 0.27090361946972025,\n",
       " 0.3811024512223584,\n",
       " 0.27945345304553904,\n",
       " 0.33774536866286836,\n",
       " 0.3305618446157521,\n",
       " 0.39892336122604904,\n",
       " 0.27245322973526237,\n",
       " 0.36690519603190735,\n",
       " 0.3913194973773304,\n",
       " 0.337735324756537,\n",
       " 0.2574458376327784,\n",
       " 0.39721893464195923,\n",
       " 0.38397508291492816,\n",
       " 0.393259521086186,\n",
       " 0.30922884100265763,\n",
       " 0.25975980964011175,\n",
       " 0.2463435719306526,\n",
       " 0.3953009751559456,\n",
       " 0.28974300408570935,\n",
       " 0.2490132135427377,\n",
       " 0.2721728624636344,\n",
       " 0.2728397990332795,\n",
       " 0.32242349608090304,\n",
       " 0.39213734807040634,\n",
       " 0.3989012562030275,\n",
       " 0.2986095154722924,\n",
       " 0.2998617946603097,\n",
       " 0.3951944451382616,\n",
       " 0.31514158339114023,\n",
       " 0.3959805213591751,\n",
       " 0.30245395573189,\n",
       " 0.36242486249908956,\n",
       " 0.35583959682480804,\n",
       " 0.3487972950346884,\n",
       " 0.29087928253885803,\n",
       " 0.33305288854923437,\n",
       " 0.3613918251169125,\n",
       " 0.27810015110419767,\n",
       " 0.36928715075897295,\n",
       " 0.33765484269293755,\n",
       " 0.300727950579889,\n",
       " 0.2635367090732289,\n",
       " 0.39612100927804844,\n",
       " 0.3089312363925669,\n",
       " 0.3865680854032973]"
      ]
     },
     "execution_count": 44,
     "metadata": {},
     "output_type": "execute_result"
    }
   ],
   "source": [
    "from numpy import *\n",
    "\n",
    "# Function of normal distribution\n",
    "def normpdf(x, mu, sigma):\n",
    "    u = (x-mu)/abs(sigma)\n",
    "    y = (1/(sqrt(2*pi)*abs(sigma)))*exp(-u*u/2)\n",
    "    return y \n",
    "\n",
    "\n",
    "ygauss = [normpdf(x,0,1) for x in xgauss] # using inbuilt Gaussian function \n",
    "\n",
    "ylin = [normpdf(x,0,1) for x in xlin]\n",
    "\n",
    "yrand = [normpdf(x,0,1) for x in xrand]\n",
    "yrand"
   ]
  },
  {
   "cell_type": "code",
   "execution_count": 48,
   "metadata": {},
   "outputs": [
    {
     "data": {
      "text/plain": [
       "(array([20., 20., 20., 20., 20.]),\n",
       " array([ 0.,  2.,  4.,  6.,  8., 10.]),\n",
       " <BarContainer object of 5 artists>)"
      ]
     },
     "execution_count": 48,
     "metadata": {},
     "output_type": "execute_result"
    },
    {
     "data": {
      "image/png": "[encoded data removed]",
      "text/plain": [
       "<Figure size 432x288 with 1 Axes>"
      ]
     },
     "metadata": {
      "needs_background": "light"
     },
     "output_type": "display_data"
    }
   ],
   "source": [
    "# Now plot it\n",
    "\n",
    "import matplotlib.pyplot as plt\n",
    "\n",
    "# bar plot\n",
    "\n",
    "# plt.hist(xgauss)\n",
    "\n",
    "# plt.hist(xrand)\n",
    "\n",
    "plt.hist(xlin,bins=5,edgecolor=\"red\")\n",
    "#plt.show()\n"
   ]
  },
  {
   "cell_type": "code",
   "execution_count": 49,
   "metadata": {},
   "outputs": [
    {
     "data": {
      "image/png": "[encoded data removed]",
      "text/plain": [
       "<Figure size 432x288 with 1 Axes>"
      ]
     },
     "metadata": {
      "needs_background": "light"
     },
     "output_type": "display_data"
    }
   ],
   "source": [
    "# scatter plot\n",
    "plt.scatter(xgauss,ygauss)\n",
    "plt.title(\"Scatter plot\")\n",
    "plt.xlabel('sample from N(0,1)')\n",
    "plt.ylabel(' probability') \n",
    "\n",
    "plt.show()"
   ]
  },
  {
   "cell_type": "code",
   "execution_count": 50,
   "metadata": {},
   "outputs": [
    {
     "data": {
      "image/png": "[encoded data removed]",
      "text/plain": [
       "<Figure size 432x288 with 1 Axes>"
      ]
     },
     "metadata": {
      "needs_background": "light"
     },
     "output_type": "display_data"
    }
   ],
   "source": [
    "# line plot\n",
    "plt.plot(xlin,ylin)\n",
    "plt.title(\"Line plot\")\n",
    "plt.xlabel('sample from N(0,1)')\n",
    "plt.ylabel(' probability') \n",
    "\n",
    "plt.show()"
   ]
  },
  {
   "cell_type": "markdown",
   "metadata": {},
   "source": [
    "### Assignment 4\n",
    "\n",
    "One-dimensional line search.\n",
    "\n",
    "Given a function $y=6x^2 -12x-48 -0.5x^3 +24.5 cos(x)$, and a domain of $x$, say $x \\in [0,10]$. Find the $x$ that maximizes $y$ (an optimization problem). \n",
    "\n",
    "1. Generate 100 random values in the domain, compute $y$ for each of them and plot $x$ and $y$. What is the max value of $y$ obtained? **Pure random search**\n",
    "\n",
    "\n",
    "\n",
    "2. Start at $x=0$, generate 100 values of $x$ such that the next value is a random step from the current value. The maximum step size is 1 unit. Again compute $y$ for each of these 100 values, plot $x$ and $y$. What is the max value of $y$ obtained? **Rastrigin's random search**\n",
    "\n",
    "Hint: Use `x=x+random.uniform(0,1)`"
   ]
  },
  {
   "cell_type": "code",
   "execution_count": 51,
   "metadata": {},
   "outputs": [
    {
     "data": {
      "image/png": "[encoded data removed]",
      "text/plain": [
       "<Figure size 432x288 with 1 Axes>"
      ]
     },
     "metadata": {
      "needs_background": "light"
     },
     "output_type": "display_data"
    }
   ],
   "source": [
    "x=linspace(0,10,100)\n",
    "\n",
    "y = 6 *x*x -12*x-48 -0.5*x*x*x +24.6*cos(x)\n",
    " \n",
    "\n",
    "plt.plot(x,y)\n",
    "plt.show()"
   ]
  },
  {
   "cell_type": "code",
   "execution_count": null,
   "metadata": {},
   "outputs": [],
   "source": []
  }
 ],
 "metadata": {
  "kernelspec": {
   "display_name": "Python 3 (ipykernel)",
   "language": "python",
   "name": "python3"
  },
  "language_info": {
   "codemirror_mode": {
    "name": "ipython",
    "version": 3
   },
   "file_extension": ".py",
   "mimetype": "text/x-python",
   "name": "python",
   "nbconvert_exporter": "python",
   "pygments_lexer": "ipython3",
   "version": "3.9.7"
  }
 },
 "nbformat": 4,
 "nbformat_minor": 4
}
