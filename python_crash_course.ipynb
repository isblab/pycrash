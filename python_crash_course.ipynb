{
 "cells": [
  {
   "cell_type": "markdown",
   "metadata": {},
   "source": [
    "# Introduction to python"
   ]
  },
  {
   "cell_type": "markdown",
   "metadata": {},
   "source": [
    "**Course logistics** : Four parts. Each part : lecture for 20-30 mins + assignment for 15 mins. Assigned to breakout rooms with TAs. \n",
    "\n",
    "* Python is an interpreted language; no need to compile. \n",
    "\n",
    "* Jupyter notebook: interactive environment for writing and running code, storing notes alongside. \n",
    "\n",
    "* Programming essentials : **storage** (data structures) and **control flow** (algorithms). "
   ]
  },
  {
   "cell_type": "markdown",
   "metadata": {},
   "source": [
    "## Part 1. Basic data structures, conditionals and looping"
   ]
  },
  {
   "cell_type": "markdown",
   "metadata": {},
   "source": [
    "### Data structures"
   ]
  },
  {
   "cell_type": "markdown",
   "metadata": {},
   "source": [
    "How/what information is stored in memory.\n",
    "\n",
    "All information stored in memory as registers (1's and 0's). \n",
    "\n",
    "Low-level languages (manipulate registers) and high-level languages (variables).  \n",
    "\n",
    "#### In-built/simple data types\n",
    "\n",
    "Assignment right to left. Values assigned stay as-is unless changed. "
   ]
  },
  {
   "cell_type": "code",
   "execution_count": null,
   "metadata": {},
   "outputs": [],
   "source": [
    "a = 12   \n",
    "\n",
    "# integer\n",
    "\n",
    "b = 43.45\n",
    "\n",
    "# floating point\n",
    "\n",
    "c = \"this course\"\n",
    "\n",
    "d = True\n",
    "\n",
    "# string\n",
    "\n",
    "# This is a comment\n",
    "\n",
    "print(a,b,c,d)"
   ]
  },
  {
   "cell_type": "markdown",
   "metadata": {},
   "source": [
    "#### User-defined/abstract data types"
   ]
  },
  {
   "cell_type": "markdown",
   "metadata": {},
   "source": [
    "#### Lists \n",
    "\n",
    "Linear/sequential storage. Random access of i'th element. "
   ]
  },
  {
   "cell_type": "code",
   "execution_count": null,
   "metadata": {},
   "outputs": [],
   "source": [
    "l = [1,2,3,4,5] # this is a list\n",
    "\n",
    "m = [] # this is an empty list"
   ]
  },
  {
   "cell_type": "code",
   "execution_count": null,
   "metadata": {},
   "outputs": [],
   "source": [
    "l[3] = 19 # can access i'th element by a[i]. Index numbering starts from 0. \n",
    "l "
   ]
  },
  {
   "cell_type": "code",
   "execution_count": null,
   "metadata": {},
   "outputs": [],
   "source": [
    "l.append(6) # add to the end of a list\n",
    "l"
   ]
  },
  {
   "cell_type": "code",
   "execution_count": null,
   "metadata": {},
   "outputs": [],
   "source": [
    "l.insert(1,24) # insert(i,x)  inserts x before index i. \n",
    "l"
   ]
  },
  {
   "cell_type": "code",
   "execution_count": null,
   "metadata": {},
   "outputs": [],
   "source": [
    "print(l.index(19)) # returns index of the element 19. "
   ]
  },
  {
   "cell_type": "code",
   "execution_count": null,
   "metadata": {},
   "outputs": [],
   "source": [
    "m = l[0:2]\n",
    "\n",
    "print(m)\n",
    "\n",
    "print(sorted(l))\n",
    "\n",
    "print(l)\n",
    "print(len(l))"
   ]
  },
  {
   "cell_type": "markdown",
   "metadata": {},
   "source": [
    "#### Tuples   \n",
    "\n",
    "Linear/sequential storage. Immutable, heterogenous. Packing and unpacking. "
   ]
  },
  {
   "cell_type": "code",
   "execution_count": null,
   "metadata": {},
   "outputs": [],
   "source": [
    "person = 'Aashish','GS2019',1234,'NCBS' # packing to a tuple\n",
    "print(person)\n",
    "\n",
    "name, BATCH,rollno, institute = person # unpack tuple\n",
    "print(name, BATCH,rollno, institute)"
   ]
  },
  {
   "cell_type": "markdown",
   "metadata": {},
   "source": [
    "#### Dictionaries \n",
    "\n",
    "Map of key-value pairs. "
   ]
  },
  {
   "cell_type": "code",
   "execution_count": null,
   "metadata": {},
   "outputs": [],
   "source": [
    "rooms_to_courses = {'Raspuri':['Dev Bio','Neuro Bio'],'Malgova':['Ecology'],'Haapus':['Stat Inference','Research Ethics']}  # rooms allotted to a course\n",
    "\n",
    "rooms_to_courses['Raspuri']"
   ]
  },
  {
   "cell_type": "markdown",
   "metadata": {},
   "source": [
    "### Conditionals and looping"
   ]
  },
  {
   "cell_type": "markdown",
   "metadata": {},
   "source": [
    "Change the sequence of execution of instructions based on conditions. \n",
    "\n",
    "#### Conditionals \n",
    "\n",
    "Evaluate to True or False. Based on this, code blocks are executed. "
   ]
  },
  {
   "cell_type": "code",
   "execution_count": null,
   "metadata": {},
   "outputs": [],
   "source": [
    "12.34 < 12.344 "
   ]
  },
  {
   "cell_type": "code",
   "execution_count": null,
   "metadata": {},
   "outputs": [],
   "source": [
    "a=12 # numerical example\n",
    "b=13\n",
    "c=14\n",
    "\n",
    "# numerical example\n",
    "if a<=b:  # boolean operators for integers/floats:  <= , <, >=,>, ==    \n",
    "    print(a,\"is smaller\")\n",
    "else:\n",
    "    print(b,\"is smaller\")"
   ]
  },
  {
   "cell_type": "code",
   "execution_count": null,
   "metadata": {},
   "outputs": [],
   "source": [
    "# multiple conditionals\n",
    "if a<b and b<c: \n",
    "    print(f\"Order is {a} {b} {c}\") # formatted printing"
   ]
  },
  {
   "cell_type": "code",
   "execution_count": null,
   "metadata": {},
   "outputs": [],
   "source": [
    "# similarly, or and not\n",
    "if not (a>b or b>c): # evaluate True, False for each condition and then combine \n",
    "    print(\"Neither %d > %d nor %d > %d\" % (a,b,b,c)) # another formatted printing\n",
    "    "
   ]
  },
  {
   "cell_type": "code",
   "execution_count": null,
   "metadata": {},
   "outputs": [],
   "source": [
    "# string example\n",
    "traffic_light = \"RED\"\n",
    "    \n",
    "if traffic_light == \"RED\":  # string equivalence\n",
    "    print(\"STOP.\")\n",
    "else:\n",
    "    print(\"GO.\")    "
   ]
  },
  {
   "cell_type": "code",
   "execution_count": null,
   "metadata": {},
   "outputs": [],
   "source": [
    "if \"RE\" in traffic_light: # substring check\n",
    "    print(\"STOP.\")"
   ]
  },
  {
   "cell_type": "code",
   "execution_count": null,
   "metadata": {},
   "outputs": [],
   "source": [
    "# list belonging: in and not in\n",
    "if 24 in l:\n",
    "    print(\"yes, 24 is in the list\")\n",
    "else:\n",
    "    print(\"no 24 is not in the list\")\n",
    "    "
   ]
  },
  {
   "cell_type": "code",
   "execution_count": null,
   "metadata": {},
   "outputs": [],
   "source": [
    "# dictionary belonging, elif\n",
    "rooms_to_courses = {'Raspuri':['Dev Bio','Neuro Bio'],'Malgova':['Ecology'],'Haapus':['Stat Inference','Research Ethics']}  # rooms allotted to a course\n",
    "\n",
    "if 'Dasheri' in rooms_to_courses:\n",
    "    print(\"Dasheri is an allotted room.\")\n",
    "elif 'Safeda' in rooms_to_courses:\n",
    "    print(\"Dasheri is not allotted. Safeda is an allotted room.\")\n",
    "else:\n",
    "    print(\"Sorry, neither Dasheri nor Safeda are allotted.\")"
   ]
  },
  {
   "cell_type": "markdown",
   "metadata": {},
   "source": [
    "#### Looping \n",
    "\n",
    "Need atleast one looping variable and iterable sequence. "
   ]
  },
  {
   "cell_type": "code",
   "execution_count": null,
   "metadata": {},
   "outputs": [],
   "source": [
    "alist = []\n",
    "adict = {}\n",
    "\n",
    "# loop over a range of numbers \n",
    "for i in range(20):   # range(start,end,step) \n",
    "    alist.append(i) \n",
    "    adict[i] = i+1\n",
    "\n",
    "alist\n",
    "#adict "
   ]
  },
  {
   "cell_type": "code",
   "execution_count": null,
   "metadata": {},
   "outputs": [],
   "source": [
    "a = [i for i in range(1,10,2)] # list comprehension\n",
    "a"
   ]
  },
  {
   "cell_type": "code",
   "execution_count": null,
   "metadata": {},
   "outputs": [],
   "source": [
    "for element in alist:    # loop over a list\n",
    "    print(element)"
   ]
  },
  {
   "cell_type": "code",
   "execution_count": null,
   "metadata": {},
   "outputs": [],
   "source": [
    "for key in adict: # loop over a dictionary\n",
    "    print(key, adict[key])"
   ]
  },
  {
   "cell_type": "code",
   "execution_count": null,
   "metadata": {},
   "outputs": [],
   "source": [
    "# while loop, break and continue \n",
    "while i in range(20): \n",
    "    if i<10:\n",
    "        continue\n",
    "    \n",
    "    alist.append(i)\n",
    "    if i==16:\n",
    "        break\n",
    "\n",
    "alist "
   ]
  },
  {
   "cell_type": "markdown",
   "metadata": {},
   "source": [
    "### Assignment 1\n",
    "1. Find the minimum element of a list without using inbuilt functions. \n",
    "    \n",
    "2. Swap two variables. "
   ]
  },
  {
   "cell_type": "markdown",
   "metadata": {},
   "source": [
    "## Part 2. Functions  "
   ]
  },
  {
   "cell_type": "markdown",
   "metadata": {},
   "source": [
    "### Functions\n",
    "\n",
    "Code block to make it easy to repeat a set of instructions. Modular code : good design practice, more readable, supports reuse. "
   ]
  },
  {
   "cell_type": "code",
   "execution_count": null,
   "metadata": {},
   "outputs": [],
   "source": [
    "def square(n): # function definition\n",
    "    n_square = n*n\n",
    "    return(n_square)\n",
    "\n",
    "square(13) # function calling"
   ]
  },
  {
   "cell_type": "code",
   "execution_count": null,
   "metadata": {},
   "outputs": [],
   "source": [
    "def min_list(a):\n",
    "    min_val = a[0]\n",
    "    \n",
    "    for i in a:\n",
    "        if i<min_val:\n",
    "            min_val=i\n",
    "    \n",
    "    return(min_val) \n",
    "\n",
    "a=[1,10,20,30,40,50]\n",
    "    \n",
    "print(min_list(a))"
   ]
  },
  {
   "cell_type": "markdown",
   "metadata": {},
   "source": [
    "**Arguments**: input variables passed to the function. \n",
    "\n",
    "Some functions can have default arguments. "
   ]
  },
  {
   "cell_type": "code",
   "execution_count": null,
   "metadata": {},
   "outputs": [],
   "source": [
    "def linear_function(x,m=20,c=10):\n",
    "    y = m*x + c\n",
    "    return(y)\n",
    "\n",
    "linear_function(1)\n",
    "\n",
    "#linear_function(1,2,1)"
   ]
  },
  {
   "cell_type": "markdown",
   "metadata": {},
   "source": [
    "#### Local and global variables\n",
    "\n",
    "A code block (e.g. function) can have its own variables with the same name as outside. \n",
    "\n",
    "Value of a variable will correspond to the innermost block. \n",
    "\n",
    "Innermost block can access global variables as well.  "
   ]
  },
  {
   "cell_type": "code",
   "execution_count": null,
   "metadata": {},
   "outputs": [],
   "source": [
    "def silly():\n",
    "    a = 10\n",
    "    print(a,b)\n",
    "    \n",
    "a = 20 \n",
    "b = 39\n",
    "\n",
    "print(a,b)\n",
    "\n",
    "silly()"
   ]
  },
  {
   "cell_type": "markdown",
   "metadata": {},
   "source": [
    "#### Python inbuilt functions\n",
    "\n",
    "Python modules: os, sys, string, math\n",
    "\n",
    "Called by \n",
    "\n",
    "`import os`\n",
    "\n",
    "`import sys`"
   ]
  },
  {
   "cell_type": "code",
   "execution_count": null,
   "metadata": {},
   "outputs": [],
   "source": [
    "import math\n",
    "\n",
    "math.sqrt(169) #module.function(arguments)\n",
    "\n",
    "math.pow(2,4) \n",
    "\n",
    "math.ceil(5.44)"
   ]
  },
  {
   "cell_type": "code",
   "execution_count": null,
   "metadata": {},
   "outputs": [],
   "source": [
    "import os\n",
    "\n",
    "os.listdir()\n",
    "\n",
    "os.getcwd()"
   ]
  },
  {
   "cell_type": "code",
   "execution_count": null,
   "metadata": {},
   "outputs": [],
   "source": [
    "import string\n",
    "\n",
    "test_string = \"Name:Shruthi,Dept:DAE,Position:Reader\\n\" # last character is \"Enter\"\n",
    "\n",
    "if test_string.startswith(\"Name\"): #similarly, endswith\n",
    "    print(test_string)\n",
    "    "
   ]
  },
  {
   "cell_type": "code",
   "execution_count": null,
   "metadata": {},
   "outputs": [],
   "source": [
    "# Strip\n",
    "test_string.strip()"
   ]
  },
  {
   "cell_type": "code",
   "execution_count": null,
   "metadata": {},
   "outputs": [],
   "source": [
    "# replace\n",
    "test_string.replace(\"DAE\",\"DST\")"
   ]
  },
  {
   "cell_type": "code",
   "execution_count": null,
   "metadata": {},
   "outputs": [],
   "source": [
    "# split\n",
    "fields = test_string.strip().split(',')\n",
    "\n",
    "#fields[0]\n",
    "\n",
    "fields[0].split(':')[1]\n"
   ]
  },
  {
   "cell_type": "markdown",
   "metadata": {},
   "source": [
    "### Assignment 2\n",
    "Given a list e.g.\n",
    "`a = [i for i in range(1,10)]`\n",
    "\n",
    "Write a function to take a list and return the sum of squares of the elements in the list. Use the square function above inside your function. "
   ]
  },
  {
   "cell_type": "markdown",
   "metadata": {},
   "source": [
    "## Part 3. File I/O and text parsing"
   ]
  },
  {
   "cell_type": "code",
   "execution_count": null,
   "metadata": {},
   "outputs": [],
   "source": [
    "# Write to a file \n",
    "\n",
    "filename = 'marksheet.txt'\n",
    "\n",
    "with open(filename,'w') as f:\n",
    "    \n",
    "    print(\"spiderman\",\"NCBS\",28.0, file=f)\n",
    "    print(\"batman\",\"NCBS\",32.5,file=f)\n",
    "    print(\"ironman\",\"NCBS\",40.0,file=f)\n",
    "    print(\"hulk\",\"NCBS\",38.5,file=f)\n",
    "    print(\"wonderwoman\",\"NCBS\",38.5,file=f) # copied from hulk, so same score\n",
    "    print(\"superman\",\"ICTS\",27.0,file=f)\n",
    "    print(\"thor\",\"ICTS\",42.0,file=f)\n",
    "   "
   ]
  },
  {
   "cell_type": "code",
   "execution_count": null,
   "metadata": {},
   "outputs": [],
   "source": [
    "# read from a file and store in data structures\n",
    "filename = 'marksheet.txt'\n",
    "\n",
    "course_records = {} \n",
    "\n",
    "with open(filename,'r') as f:\n",
    "        for ln in f.readlines():\n",
    "            print(ln)\n",
    "            \n",
    "            #fields = ln.strip().split()\n",
    "            #print(fields)\n",
    "            \n",
    "            # fields = ln.strip().split()\n",
    "            # course_records[fields[0]] = (fields[1],float(fields[2]))\n",
    "            \n",
    "#course_records"
   ]
  },
  {
   "cell_type": "markdown",
   "metadata": {},
   "source": [
    "Use **Pandas** module for even easier text processing! (advanced)\n"
   ]
  },
  {
   "cell_type": "markdown",
   "metadata": {},
   "source": [
    "### Assignment 3\n",
    "\n",
    "Given a list of human genes in the provided file (`genes.txt`), add names and Uniprot IDs of all the genes starting with `ABC` in a separate file. \n"
   ]
  },
  {
   "cell_type": "markdown",
   "metadata": {},
   "source": [
    "## Part 4 Numpy and Matplotlib"
   ]
  },
  {
   "cell_type": "markdown",
   "metadata": {},
   "source": [
    "Numpy module: support for scientific computation.\n",
    "\n",
    "E.g. efficient large-scale matrix operations (multi-dimensional arrays), generating random numbers, and so on.\n"
   ]
  },
  {
   "cell_type": "code",
   "execution_count": null,
   "metadata": {},
   "outputs": [],
   "source": [
    "# numpy arrays\n",
    "from numpy import *\n",
    "\n",
    "arr = array([1,2,3,4,5,6])\n",
    "arr\n",
    "\n",
    "arr.shape\n",
    "\n",
    "arr[0]\n",
    "\n",
    "arr[4]"
   ]
  },
  {
   "cell_type": "code",
   "execution_count": null,
   "metadata": {},
   "outputs": [],
   "source": [
    "# 2D arrays == matrices\n",
    "arr = array([[1,2,3],[4,5,6]])\n",
    "\n",
    "arr[1,2] # matrix element by row, col index\n",
    "\n",
    "arr[:,0] # slicing first column\n"
   ]
  },
  {
   "cell_type": "code",
   "execution_count": null,
   "metadata": {},
   "outputs": [],
   "source": [
    "# prefilled arrays\n",
    "\n",
    "arr0 = zeros((3,3))\n",
    "\n",
    "arr0\n",
    "\n",
    "# similarly, \n",
    "# arr0 = ones((3,3))"
   ]
  },
  {
   "cell_type": "code",
   "execution_count": null,
   "metadata": {},
   "outputs": [],
   "source": [
    "# matrix operations\n",
    "\n",
    "a = array([1,2,3])\n",
    "\n",
    "b = array([1,1,0])\n",
    "\n",
    "a*b # elementwise multiplication"
   ]
  },
  {
   "cell_type": "code",
   "execution_count": null,
   "metadata": {},
   "outputs": [],
   "source": [
    "dot(a,b) # matrix product\n",
    "# can also get dot product and cross products"
   ]
  },
  {
   "cell_type": "code",
   "execution_count": null,
   "metadata": {},
   "outputs": [],
   "source": [
    "# Generating points\n",
    "\n",
    "# A. create linearly spaced points\n",
    "\n",
    "# linspace(start,end,number_points = 50)\n",
    "\n",
    "xlin = linspace(0,10,100)\n",
    "\n",
    "xlin"
   ]
  },
  {
   "cell_type": "code",
   "execution_count": null,
   "metadata": {},
   "outputs": [],
   "source": [
    "# B. generating points at random\n",
    "\n",
    "import random\n",
    "\n",
    "xrandint = [random.randrange(1,10) for n in range(100) ] # integer random number\n",
    "\n",
    "xrandint"
   ]
  },
  {
   "cell_type": "code",
   "execution_count": null,
   "metadata": {},
   "outputs": [],
   "source": [
    "xrand = [random.uniform(0,1) for n in range(100)] # floating point random number\n",
    "\n",
    "xrand "
   ]
  },
  {
   "cell_type": "code",
   "execution_count": null,
   "metadata": {},
   "outputs": [],
   "source": [
    "# sample from a Gaussian distribution\n",
    "\n",
    "xgauss = [random.gauss(0,1) for n in range(100)] # mu =0, sigma = 1\n",
    "xgauss"
   ]
  },
  {
   "cell_type": "code",
   "execution_count": null,
   "metadata": {},
   "outputs": [],
   "source": [
    "from numpy import *\n",
    "\n",
    "# Function of normal distribution\n",
    "def normpdf(x, mu, sigma):\n",
    "    u = (x-mu)/abs(sigma)\n",
    "    y = (1/(sqrt(2*pi)*abs(sigma)))*exp(-u*u/2)\n",
    "    return y \n",
    "\n",
    "\n",
    "ygauss = [normpdf(x,0,1) for x in xgauss] # using inbuilt Gaussian function \n",
    "\n",
    "ylin = [normpdf(x,0,1) for x in xlin]\n",
    "\n",
    "yrand = [normpdf(x,0,1) for x in xrand]\n",
    "yrand"
   ]
  },
  {
   "cell_type": "code",
   "execution_count": null,
   "metadata": {},
   "outputs": [],
   "source": [
    "# Now plot it\n",
    "\n",
    "import matplotlib.pyplot as plt\n",
    "\n",
    "# bar plot\n",
    "\n",
    "# plt.hist(xgauss)\n",
    "\n",
    "# plt.hist(xrand)\n",
    "\n",
    "plt.hist(xlin,bins=5,edgecolor=\"red\")\n",
    "#plt.show()\n"
   ]
  },
  {
   "cell_type": "code",
   "execution_count": null,
   "metadata": {},
   "outputs": [],
   "source": [
    "# scatter plot\n",
    "plt.scatter(xgauss,ygauss)\n",
    "plt.title(\"Scatter plot\")\n",
    "plt.xlabel('sample from N(0,1)')\n",
    "plt.ylabel(' probability') \n",
    "\n",
    "plt.show()"
   ]
  },
  {
   "cell_type": "code",
   "execution_count": null,
   "metadata": {},
   "outputs": [],
   "source": [
    "# line plot\n",
    "plt.plot(xlin,ylin)\n",
    "plt.title(\"Line plot\")\n",
    "plt.xlabel('sample from N(0,1)')\n",
    "plt.ylabel(' probability') \n",
    "\n",
    "plt.show()"
   ]
  },
  {
   "cell_type": "markdown",
   "metadata": {},
   "source": [
    "### Assignment 4\n",
    "\n",
    "One-dimensional line search.\n",
    "\n",
    "Given a function $y=6x^2 -12x-48 -0.5x^3 +24.5 cos(x)$, and a domain of $x$, say $x \\in [0,10]$. Find the $x$ that maximizes $y$ (an optimization problem). \n",
    "\n",
    "1. Generate 100 random values in the domain, compute $y$ for each of them and plot $x$ and $y$. What is the max value of $y$ obtained? **Pure random search**\n",
    "\n",
    "\n",
    "\n",
    "2. Start at $x=0$, generate 100 values of $x$ such that the next value is a random step from the current value. The maximum step size is 1 unit. Again compute $y$ for each of these 100 values, plot $x$ and $y$. What is the max value of $y$ obtained? **Rastrigin's random search**\n",
    "\n",
    "Hint: Use `x=x+random.uniform(0,1)`"
   ]
  },
  {
   "cell_type": "code",
   "execution_count": null,
   "metadata": {},
   "outputs": [],
   "source": [
    "x=linspace(0,10,100)\n",
    "\n",
    "y = 6 *x*x -12*x-48 -0.5*x*x*x +24.6*cos(x)\n",
    " \n",
    "\n",
    "plt.plot(x,y)\n",
    "plt.show()"
   ]
  },
  {
   "cell_type": "code",
   "execution_count": null,
   "metadata": {},
   "outputs": [],
   "source": []
  }
 ],
 "metadata": {
  "kernelspec": {
   "display_name": "Python 3 (ipykernel)",
   "language": "python",
   "name": "python3"
  },
  "language_info": {
   "codemirror_mode": {
    "name": "ipython",
    "version": 3
   },
   "file_extension": ".py",
   "mimetype": "text/x-python",
   "name": "python",
   "nbconvert_exporter": "python",
   "pygments_lexer": "ipython3",
   "version": "3.9.7"
  }
 },
 "nbformat": 4,
 "nbformat_minor": 4
}
